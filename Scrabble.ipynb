{
 "cells": [
  {
   "attachments": {},
   "cell_type": "markdown",
   "metadata": {},
   "source": [
    "# Scrabble Analysis (Woogles.io)\n",
    "\n",
    "**Project member: Wil Bishop (BISHO210)** \n",
    "\n",
    "I got this dataset from Kaggle. The dataset has a scoring mechanism which uses RMSE to show how valid my algorithm is compared to the testing data. There is a section on the Kaggle page where one can look at other people's submissions and see how they did, but for the sake of academic honesty, I have not looked at any of the other submissions. For this reason, it is likely that others on Kaggle will have come up with a more ingenious solution, but I am not trying to get the best score possible, as that would be possible by using a built-in machine learning library, but rather to learn the essentials of data science and specifically how to build machine learning models from scratch to predict data. I will also be treating this data as if it is messy real-world data, so I will not be assuming anything about missing data, N/A data, null data, data of the wrong type (for example, a string in an array of integers), etc. I will filter for all of these things as if they are all possibly present in the dataset.\n",
    "\n",
    "The dataset contains data from around 73,000 Scrabble-type games played on a website called Woogles.io. This website has humans playing against bots. The three bots are called BetterBot, STEEBot, and HastyBot. BetterBot is the easy mode bot, STEEBot the medium difficulty bot, and HastyBot is the hardest bot. Real-world users have ranks based on how they perform against the bots.\n",
    "\n",
    "The dataset includes multiple files: \n",
    "\n",
    "games.csv lists information about each game, such as which player went first, and if it was a timed match\n",
    "\n",
    "turns.csv lists every turn for each game\n",
    "\n",
    "train.csv lists the final scores and rankings (before the game was played) for each player \n",
    "\n",
    "test.csv lists the same type of information of train.csv, but is the testing set as opposed to the training set\n",
    "\n",
    "I am trying to predict turns_test.csv based on turns_train.csv.\n",
    "\n",
    "The Kaggle page also included a sample_submission.csv file which shows the correct format for submission files, so I shall be following the format listed there.\n",
    "\n",
    "The Kaggle page also describes the files in more detail.\n",
    "\n",
    "For games.csv we have the following columns:\n",
    "\n",
    "1. game_id: Unique id for the game\n",
    "2. first: Which player went first\n",
    "3. time_control_name: Name of time control used (\"regular\", \"rapid\", or \"blitz\")\n",
    "4. game_end_reason: How the game ended\n",
    "5. winner: Who won the game\n",
    "6. created_at: When the game was created\n",
    "7. lexicon: English lexicon used in the game (\"CSW19\", \"NWL20\", \"CSW21\")\n",
    "8. initial_time_seconds: Time limit each player has in the game (defines the time control name)\n",
    "9. increment_seconds: Time increment each player gets each time they play a turn\n",
    "10. rating_mode: Whether the game counts towards player ratings or not (\"RATED\", \"CASUAL\")\n",
    "11. max_overtime_minutes: How far past the initial time limit players can go before they timeout\n",
    "12. game_duration_seconds: How long the game lasted\n",
    "\n",
    "For turns.csv we have the following columns:\n",
    "\n",
    "1. game_id: Unique id for the game\n",
    "2. turn_number: The turn number in the game\n",
    "3. nickname: Player's username on woogles.io\n",
    "4. rack: Player's current rack\n",
    "5. location: Where the player places their turn on the board (NA for games in the test set or if the player didn't make a play, e.g., if they exchanged)\n",
    "6. move: Tiles the player laid (NA for games in the test set; \"--\" if the turn_type was \"Pass\"; \"(challenge)\" if the turn_type was \"Challenge\"; \"-\" plus tiles exchanged if the turn_type was \"Exchange\"; at the end of the game, remaining tiles in a player's rack are in parentheses)\n",
    "7. points: Points the player earned (or lost) in their turn\n",
    "8. score: Player's total score at the time of the turn\n",
    "9. turn_type: Type of turn played (\"Play\", \"Exchange\", \"Pass\", \"Six-Zero Rule\" (i.e., a game that ends when players pass 3 turns in a row each), \"Challenge\")\n",
    "\n",
    "And for the test.csv and train.csv we have:\n",
    "\n",
    "1. game_id: Unique id for the game\n",
    "2. nickname: Player's username on woogles.io\n",
    "3. score: Final score for each player for each game.\n",
    "4. rating: Player's rating on woogles.io BEFORE the game was played; ratings are per Lexicon / time control name (AKA game variant). In test.csv, ratings are NA for player games; this is what you are predicting.\n",
    "\n",
    "First, I'll use pandas to read the csv files."
   ]
  },
  {
   "cell_type": "code",
   "execution_count": 1,
   "metadata": {},
   "outputs": [
    {
     "ename": "FileNotFoundError",
     "evalue": "[Errno 2] No such file or directory: './data/games.csv'",
     "output_type": "error",
     "traceback": [
      "\u001b[0;31m---------------------------------------------------------------------------\u001b[0m",
      "\u001b[0;31mFileNotFoundError\u001b[0m                         Traceback (most recent call last)",
      "Cell \u001b[0;32mIn[1], line 3\u001b[0m\n\u001b[1;32m      1\u001b[0m \u001b[39mimport\u001b[39;00m \u001b[39mpandas\u001b[39;00m \u001b[39mas\u001b[39;00m \u001b[39mpd\u001b[39;00m\n\u001b[0;32m----> 3\u001b[0m games \u001b[39m=\u001b[39m pd\u001b[39m.\u001b[39;49mread_csv(\u001b[39m'\u001b[39;49m\u001b[39m./data/games.csv\u001b[39;49m\u001b[39m'\u001b[39;49m)\n\u001b[1;32m      4\u001b[0m turns \u001b[39m=\u001b[39m pd\u001b[39m.\u001b[39mread_csv(\u001b[39m'\u001b[39m\u001b[39m./data/turns.csv\u001b[39m\u001b[39m'\u001b[39m)\n\u001b[1;32m      5\u001b[0m train \u001b[39m=\u001b[39m pd\u001b[39m.\u001b[39mread_csv(\u001b[39m'\u001b[39m\u001b[39m./data/train.csv\u001b[39m\u001b[39m'\u001b[39m)\n",
      "File \u001b[0;32m/opt/homebrew/lib/python3.11/site-packages/pandas/util/_decorators.py:211\u001b[0m, in \u001b[0;36mdeprecate_kwarg.<locals>._deprecate_kwarg.<locals>.wrapper\u001b[0;34m(*args, **kwargs)\u001b[0m\n\u001b[1;32m    209\u001b[0m     \u001b[39melse\u001b[39;00m:\n\u001b[1;32m    210\u001b[0m         kwargs[new_arg_name] \u001b[39m=\u001b[39m new_arg_value\n\u001b[0;32m--> 211\u001b[0m \u001b[39mreturn\u001b[39;00m func(\u001b[39m*\u001b[39;49margs, \u001b[39m*\u001b[39;49m\u001b[39m*\u001b[39;49mkwargs)\n",
      "File \u001b[0;32m/opt/homebrew/lib/python3.11/site-packages/pandas/util/_decorators.py:331\u001b[0m, in \u001b[0;36mdeprecate_nonkeyword_arguments.<locals>.decorate.<locals>.wrapper\u001b[0;34m(*args, **kwargs)\u001b[0m\n\u001b[1;32m    325\u001b[0m \u001b[39mif\u001b[39;00m \u001b[39mlen\u001b[39m(args) \u001b[39m>\u001b[39m num_allow_args:\n\u001b[1;32m    326\u001b[0m     warnings\u001b[39m.\u001b[39mwarn(\n\u001b[1;32m    327\u001b[0m         msg\u001b[39m.\u001b[39mformat(arguments\u001b[39m=\u001b[39m_format_argument_list(allow_args)),\n\u001b[1;32m    328\u001b[0m         \u001b[39mFutureWarning\u001b[39;00m,\n\u001b[1;32m    329\u001b[0m         stacklevel\u001b[39m=\u001b[39mfind_stack_level(),\n\u001b[1;32m    330\u001b[0m     )\n\u001b[0;32m--> 331\u001b[0m \u001b[39mreturn\u001b[39;00m func(\u001b[39m*\u001b[39;49margs, \u001b[39m*\u001b[39;49m\u001b[39m*\u001b[39;49mkwargs)\n",
      "File \u001b[0;32m/opt/homebrew/lib/python3.11/site-packages/pandas/io/parsers/readers.py:950\u001b[0m, in \u001b[0;36mread_csv\u001b[0;34m(filepath_or_buffer, sep, delimiter, header, names, index_col, usecols, squeeze, prefix, mangle_dupe_cols, dtype, engine, converters, true_values, false_values, skipinitialspace, skiprows, skipfooter, nrows, na_values, keep_default_na, na_filter, verbose, skip_blank_lines, parse_dates, infer_datetime_format, keep_date_col, date_parser, dayfirst, cache_dates, iterator, chunksize, compression, thousands, decimal, lineterminator, quotechar, quoting, doublequote, escapechar, comment, encoding, encoding_errors, dialect, error_bad_lines, warn_bad_lines, on_bad_lines, delim_whitespace, low_memory, memory_map, float_precision, storage_options)\u001b[0m\n\u001b[1;32m    935\u001b[0m kwds_defaults \u001b[39m=\u001b[39m _refine_defaults_read(\n\u001b[1;32m    936\u001b[0m     dialect,\n\u001b[1;32m    937\u001b[0m     delimiter,\n\u001b[0;32m   (...)\u001b[0m\n\u001b[1;32m    946\u001b[0m     defaults\u001b[39m=\u001b[39m{\u001b[39m\"\u001b[39m\u001b[39mdelimiter\u001b[39m\u001b[39m\"\u001b[39m: \u001b[39m\"\u001b[39m\u001b[39m,\u001b[39m\u001b[39m\"\u001b[39m},\n\u001b[1;32m    947\u001b[0m )\n\u001b[1;32m    948\u001b[0m kwds\u001b[39m.\u001b[39mupdate(kwds_defaults)\n\u001b[0;32m--> 950\u001b[0m \u001b[39mreturn\u001b[39;00m _read(filepath_or_buffer, kwds)\n",
      "File \u001b[0;32m/opt/homebrew/lib/python3.11/site-packages/pandas/io/parsers/readers.py:605\u001b[0m, in \u001b[0;36m_read\u001b[0;34m(filepath_or_buffer, kwds)\u001b[0m\n\u001b[1;32m    602\u001b[0m _validate_names(kwds\u001b[39m.\u001b[39mget(\u001b[39m\"\u001b[39m\u001b[39mnames\u001b[39m\u001b[39m\"\u001b[39m, \u001b[39mNone\u001b[39;00m))\n\u001b[1;32m    604\u001b[0m \u001b[39m# Create the parser.\u001b[39;00m\n\u001b[0;32m--> 605\u001b[0m parser \u001b[39m=\u001b[39m TextFileReader(filepath_or_buffer, \u001b[39m*\u001b[39;49m\u001b[39m*\u001b[39;49mkwds)\n\u001b[1;32m    607\u001b[0m \u001b[39mif\u001b[39;00m chunksize \u001b[39mor\u001b[39;00m iterator:\n\u001b[1;32m    608\u001b[0m     \u001b[39mreturn\u001b[39;00m parser\n",
      "File \u001b[0;32m/opt/homebrew/lib/python3.11/site-packages/pandas/io/parsers/readers.py:1442\u001b[0m, in \u001b[0;36mTextFileReader.__init__\u001b[0;34m(self, f, engine, **kwds)\u001b[0m\n\u001b[1;32m   1439\u001b[0m     \u001b[39mself\u001b[39m\u001b[39m.\u001b[39moptions[\u001b[39m\"\u001b[39m\u001b[39mhas_index_names\u001b[39m\u001b[39m\"\u001b[39m] \u001b[39m=\u001b[39m kwds[\u001b[39m\"\u001b[39m\u001b[39mhas_index_names\u001b[39m\u001b[39m\"\u001b[39m]\n\u001b[1;32m   1441\u001b[0m \u001b[39mself\u001b[39m\u001b[39m.\u001b[39mhandles: IOHandles \u001b[39m|\u001b[39m \u001b[39mNone\u001b[39;00m \u001b[39m=\u001b[39m \u001b[39mNone\u001b[39;00m\n\u001b[0;32m-> 1442\u001b[0m \u001b[39mself\u001b[39m\u001b[39m.\u001b[39m_engine \u001b[39m=\u001b[39m \u001b[39mself\u001b[39;49m\u001b[39m.\u001b[39;49m_make_engine(f, \u001b[39mself\u001b[39;49m\u001b[39m.\u001b[39;49mengine)\n",
      "File \u001b[0;32m/opt/homebrew/lib/python3.11/site-packages/pandas/io/parsers/readers.py:1735\u001b[0m, in \u001b[0;36mTextFileReader._make_engine\u001b[0;34m(self, f, engine)\u001b[0m\n\u001b[1;32m   1733\u001b[0m     \u001b[39mif\u001b[39;00m \u001b[39m\"\u001b[39m\u001b[39mb\u001b[39m\u001b[39m\"\u001b[39m \u001b[39mnot\u001b[39;00m \u001b[39min\u001b[39;00m mode:\n\u001b[1;32m   1734\u001b[0m         mode \u001b[39m+\u001b[39m\u001b[39m=\u001b[39m \u001b[39m\"\u001b[39m\u001b[39mb\u001b[39m\u001b[39m\"\u001b[39m\n\u001b[0;32m-> 1735\u001b[0m \u001b[39mself\u001b[39m\u001b[39m.\u001b[39mhandles \u001b[39m=\u001b[39m get_handle(\n\u001b[1;32m   1736\u001b[0m     f,\n\u001b[1;32m   1737\u001b[0m     mode,\n\u001b[1;32m   1738\u001b[0m     encoding\u001b[39m=\u001b[39;49m\u001b[39mself\u001b[39;49m\u001b[39m.\u001b[39;49moptions\u001b[39m.\u001b[39;49mget(\u001b[39m\"\u001b[39;49m\u001b[39mencoding\u001b[39;49m\u001b[39m\"\u001b[39;49m, \u001b[39mNone\u001b[39;49;00m),\n\u001b[1;32m   1739\u001b[0m     compression\u001b[39m=\u001b[39;49m\u001b[39mself\u001b[39;49m\u001b[39m.\u001b[39;49moptions\u001b[39m.\u001b[39;49mget(\u001b[39m\"\u001b[39;49m\u001b[39mcompression\u001b[39;49m\u001b[39m\"\u001b[39;49m, \u001b[39mNone\u001b[39;49;00m),\n\u001b[1;32m   1740\u001b[0m     memory_map\u001b[39m=\u001b[39;49m\u001b[39mself\u001b[39;49m\u001b[39m.\u001b[39;49moptions\u001b[39m.\u001b[39;49mget(\u001b[39m\"\u001b[39;49m\u001b[39mmemory_map\u001b[39;49m\u001b[39m\"\u001b[39;49m, \u001b[39mFalse\u001b[39;49;00m),\n\u001b[1;32m   1741\u001b[0m     is_text\u001b[39m=\u001b[39;49mis_text,\n\u001b[1;32m   1742\u001b[0m     errors\u001b[39m=\u001b[39;49m\u001b[39mself\u001b[39;49m\u001b[39m.\u001b[39;49moptions\u001b[39m.\u001b[39;49mget(\u001b[39m\"\u001b[39;49m\u001b[39mencoding_errors\u001b[39;49m\u001b[39m\"\u001b[39;49m, \u001b[39m\"\u001b[39;49m\u001b[39mstrict\u001b[39;49m\u001b[39m\"\u001b[39;49m),\n\u001b[1;32m   1743\u001b[0m     storage_options\u001b[39m=\u001b[39;49m\u001b[39mself\u001b[39;49m\u001b[39m.\u001b[39;49moptions\u001b[39m.\u001b[39;49mget(\u001b[39m\"\u001b[39;49m\u001b[39mstorage_options\u001b[39;49m\u001b[39m\"\u001b[39;49m, \u001b[39mNone\u001b[39;49;00m),\n\u001b[1;32m   1744\u001b[0m )\n\u001b[1;32m   1745\u001b[0m \u001b[39massert\u001b[39;00m \u001b[39mself\u001b[39m\u001b[39m.\u001b[39mhandles \u001b[39mis\u001b[39;00m \u001b[39mnot\u001b[39;00m \u001b[39mNone\u001b[39;00m\n\u001b[1;32m   1746\u001b[0m f \u001b[39m=\u001b[39m \u001b[39mself\u001b[39m\u001b[39m.\u001b[39mhandles\u001b[39m.\u001b[39mhandle\n",
      "File \u001b[0;32m/opt/homebrew/lib/python3.11/site-packages/pandas/io/common.py:856\u001b[0m, in \u001b[0;36mget_handle\u001b[0;34m(path_or_buf, mode, encoding, compression, memory_map, is_text, errors, storage_options)\u001b[0m\n\u001b[1;32m    851\u001b[0m \u001b[39melif\u001b[39;00m \u001b[39misinstance\u001b[39m(handle, \u001b[39mstr\u001b[39m):\n\u001b[1;32m    852\u001b[0m     \u001b[39m# Check whether the filename is to be opened in binary mode.\u001b[39;00m\n\u001b[1;32m    853\u001b[0m     \u001b[39m# Binary mode does not support 'encoding' and 'newline'.\u001b[39;00m\n\u001b[1;32m    854\u001b[0m     \u001b[39mif\u001b[39;00m ioargs\u001b[39m.\u001b[39mencoding \u001b[39mand\u001b[39;00m \u001b[39m\"\u001b[39m\u001b[39mb\u001b[39m\u001b[39m\"\u001b[39m \u001b[39mnot\u001b[39;00m \u001b[39min\u001b[39;00m ioargs\u001b[39m.\u001b[39mmode:\n\u001b[1;32m    855\u001b[0m         \u001b[39m# Encoding\u001b[39;00m\n\u001b[0;32m--> 856\u001b[0m         handle \u001b[39m=\u001b[39m \u001b[39mopen\u001b[39;49m(\n\u001b[1;32m    857\u001b[0m             handle,\n\u001b[1;32m    858\u001b[0m             ioargs\u001b[39m.\u001b[39;49mmode,\n\u001b[1;32m    859\u001b[0m             encoding\u001b[39m=\u001b[39;49mioargs\u001b[39m.\u001b[39;49mencoding,\n\u001b[1;32m    860\u001b[0m             errors\u001b[39m=\u001b[39;49merrors,\n\u001b[1;32m    861\u001b[0m             newline\u001b[39m=\u001b[39;49m\u001b[39m\"\u001b[39;49m\u001b[39m\"\u001b[39;49m,\n\u001b[1;32m    862\u001b[0m         )\n\u001b[1;32m    863\u001b[0m     \u001b[39melse\u001b[39;00m:\n\u001b[1;32m    864\u001b[0m         \u001b[39m# Binary mode\u001b[39;00m\n\u001b[1;32m    865\u001b[0m         handle \u001b[39m=\u001b[39m \u001b[39mopen\u001b[39m(handle, ioargs\u001b[39m.\u001b[39mmode)\n",
      "\u001b[0;31mFileNotFoundError\u001b[0m: [Errno 2] No such file or directory: './data/games.csv'"
     ]
    }
   ],
   "source": [
    "import pandas as pd\n",
    "\n",
    "games = pd.read_csv('./data/games.csv')\n",
    "turns = pd.read_csv('./data/turns.csv')\n",
    "train = pd.read_csv('./data/train.csv')\n",
    "test = pd.read_csv('./data/test.csv')"
   ]
  },
  {
   "attachments": {},
   "cell_type": "markdown",
   "metadata": {},
   "source": [
    "# Exploratory Analysis\n",
    "\n",
    "For our exploratory analysis, we'll want to summarize and visualize the data. We'll also want to get a better understanding of the data. We'll want to know what kind of data we're working with, how complex it is, and if it's sufficient for our ultimate goal of predicting scores for Scrabble matches. We'll also want to know if there's any missing data, and if there are any relationships between the different independent variables.\n",
    "\n",
    "We can see immediately that the files are in CSV format. Let's look at how many columns and rows they have. We can then multiply these to find the volume of data."
   ]
  },
  {
   "cell_type": "code",
   "execution_count": null,
   "metadata": {},
   "outputs": [
    {
     "name": "stdout",
     "output_type": "stream",
     "text": [
      "Shape of games: (72773, 12)\n",
      "Shape of turns: (2005498, 9)\n",
      "Shape of train: (100820, 4)\n",
      "Shape of test: (44726, 4)\n"
     ]
    }
   ],
   "source": [
    "print(\"Shape of games: {}\".format(games.shape))\n",
    "print(\"Shape of turns: {}\".format(turns.shape))\n",
    "print(\"Shape of train: {}\".format(train.shape))\n",
    "print(\"Shape of test: {}\".format(test.shape))"
   ]
  },
  {
   "attachments": {},
   "cell_type": "markdown",
   "metadata": {},
   "source": [
    "The number of columns align with what we got from the Kaggle page.\n",
    "\n",
    "We'll also want to look at whether numerical, categorical, or both types of variables are utilized within this dataset."
   ]
  },
  {
   "cell_type": "code",
   "execution_count": null,
   "metadata": {},
   "outputs": [
    {
     "data": {
      "text/html": [
       "<div>\n",
       "<style scoped>\n",
       "    .dataframe tbody tr th:only-of-type {\n",
       "        vertical-align: middle;\n",
       "    }\n",
       "\n",
       "    .dataframe tbody tr th {\n",
       "        vertical-align: top;\n",
       "    }\n",
       "\n",
       "    .dataframe thead th {\n",
       "        text-align: right;\n",
       "    }\n",
       "</style>\n",
       "<table border=\"1\" class=\"dataframe\">\n",
       "  <thead>\n",
       "    <tr style=\"text-align: right;\">\n",
       "      <th></th>\n",
       "      <th>game_id</th>\n",
       "      <th>nickname</th>\n",
       "      <th>score</th>\n",
       "      <th>rating</th>\n",
       "    </tr>\n",
       "  </thead>\n",
       "  <tbody>\n",
       "    <tr>\n",
       "      <th>0</th>\n",
       "      <td>1</td>\n",
       "      <td>BetterBot</td>\n",
       "      <td>335</td>\n",
       "      <td>1637</td>\n",
       "    </tr>\n",
       "    <tr>\n",
       "      <th>1</th>\n",
       "      <td>1</td>\n",
       "      <td>stevy</td>\n",
       "      <td>429</td>\n",
       "      <td>1500</td>\n",
       "    </tr>\n",
       "    <tr>\n",
       "      <th>2</th>\n",
       "      <td>3</td>\n",
       "      <td>davidavid</td>\n",
       "      <td>440</td>\n",
       "      <td>1811</td>\n",
       "    </tr>\n",
       "    <tr>\n",
       "      <th>3</th>\n",
       "      <td>3</td>\n",
       "      <td>BetterBot</td>\n",
       "      <td>318</td>\n",
       "      <td>2071</td>\n",
       "    </tr>\n",
       "    <tr>\n",
       "      <th>4</th>\n",
       "      <td>4</td>\n",
       "      <td>Inandoutworker</td>\n",
       "      <td>119</td>\n",
       "      <td>1473</td>\n",
       "    </tr>\n",
       "  </tbody>\n",
       "</table>\n",
       "</div>"
      ],
      "text/plain": [
       "   game_id        nickname  score  rating\n",
       "0        1       BetterBot    335    1637\n",
       "1        1           stevy    429    1500\n",
       "2        3       davidavid    440    1811\n",
       "3        3       BetterBot    318    2071\n",
       "4        4  Inandoutworker    119    1473"
      ]
     },
     "metadata": {},
     "output_type": "display_data"
    },
    {
     "data": {
      "text/html": [
       "<div>\n",
       "<style scoped>\n",
       "    .dataframe tbody tr th:only-of-type {\n",
       "        vertical-align: middle;\n",
       "    }\n",
       "\n",
       "    .dataframe tbody tr th {\n",
       "        vertical-align: top;\n",
       "    }\n",
       "\n",
       "    .dataframe thead th {\n",
       "        text-align: right;\n",
       "    }\n",
       "</style>\n",
       "<table border=\"1\" class=\"dataframe\">\n",
       "  <thead>\n",
       "    <tr style=\"text-align: right;\">\n",
       "      <th></th>\n",
       "      <th>game_id</th>\n",
       "      <th>nickname</th>\n",
       "      <th>score</th>\n",
       "      <th>rating</th>\n",
       "    </tr>\n",
       "  </thead>\n",
       "  <tbody>\n",
       "    <tr>\n",
       "      <th>0</th>\n",
       "      <td>2</td>\n",
       "      <td>Super</td>\n",
       "      <td>488</td>\n",
       "      <td>NaN</td>\n",
       "    </tr>\n",
       "    <tr>\n",
       "      <th>1</th>\n",
       "      <td>2</td>\n",
       "      <td>BetterBot</td>\n",
       "      <td>401</td>\n",
       "      <td>2000.0</td>\n",
       "    </tr>\n",
       "    <tr>\n",
       "      <th>2</th>\n",
       "      <td>7</td>\n",
       "      <td>STEEBot</td>\n",
       "      <td>377</td>\n",
       "      <td>2082.0</td>\n",
       "    </tr>\n",
       "    <tr>\n",
       "      <th>3</th>\n",
       "      <td>7</td>\n",
       "      <td>Priya1</td>\n",
       "      <td>379</td>\n",
       "      <td>NaN</td>\n",
       "    </tr>\n",
       "    <tr>\n",
       "      <th>4</th>\n",
       "      <td>11</td>\n",
       "      <td>STEEBot</td>\n",
       "      <td>334</td>\n",
       "      <td>1829.0</td>\n",
       "    </tr>\n",
       "  </tbody>\n",
       "</table>\n",
       "</div>"
      ],
      "text/plain": [
       "   game_id   nickname  score  rating\n",
       "0        2      Super    488     NaN\n",
       "1        2  BetterBot    401  2000.0\n",
       "2        7    STEEBot    377  2082.0\n",
       "3        7     Priya1    379     NaN\n",
       "4       11    STEEBot    334  1829.0"
      ]
     },
     "metadata": {},
     "output_type": "display_data"
    },
    {
     "data": {
      "text/html": [
       "<div>\n",
       "<style scoped>\n",
       "    .dataframe tbody tr th:only-of-type {\n",
       "        vertical-align: middle;\n",
       "    }\n",
       "\n",
       "    .dataframe tbody tr th {\n",
       "        vertical-align: top;\n",
       "    }\n",
       "\n",
       "    .dataframe thead th {\n",
       "        text-align: right;\n",
       "    }\n",
       "</style>\n",
       "<table border=\"1\" class=\"dataframe\">\n",
       "  <thead>\n",
       "    <tr style=\"text-align: right;\">\n",
       "      <th></th>\n",
       "      <th>game_id</th>\n",
       "      <th>turn_number</th>\n",
       "      <th>nickname</th>\n",
       "      <th>rack</th>\n",
       "      <th>location</th>\n",
       "      <th>move</th>\n",
       "      <th>points</th>\n",
       "      <th>score</th>\n",
       "      <th>turn_type</th>\n",
       "    </tr>\n",
       "  </thead>\n",
       "  <tbody>\n",
       "    <tr>\n",
       "      <th>0</th>\n",
       "      <td>1</td>\n",
       "      <td>1</td>\n",
       "      <td>BetterBot</td>\n",
       "      <td>DDEGITT</td>\n",
       "      <td>8G</td>\n",
       "      <td>DIG</td>\n",
       "      <td>10</td>\n",
       "      <td>10</td>\n",
       "      <td>Play</td>\n",
       "    </tr>\n",
       "    <tr>\n",
       "      <th>1</th>\n",
       "      <td>1</td>\n",
       "      <td>2</td>\n",
       "      <td>stevy</td>\n",
       "      <td>AEHOPUX</td>\n",
       "      <td>7H</td>\n",
       "      <td>HAP</td>\n",
       "      <td>18</td>\n",
       "      <td>18</td>\n",
       "      <td>Play</td>\n",
       "    </tr>\n",
       "    <tr>\n",
       "      <th>2</th>\n",
       "      <td>1</td>\n",
       "      <td>3</td>\n",
       "      <td>BetterBot</td>\n",
       "      <td>DEELTTU</td>\n",
       "      <td>6I</td>\n",
       "      <td>LUTE</td>\n",
       "      <td>16</td>\n",
       "      <td>26</td>\n",
       "      <td>Play</td>\n",
       "    </tr>\n",
       "    <tr>\n",
       "      <th>3</th>\n",
       "      <td>1</td>\n",
       "      <td>4</td>\n",
       "      <td>stevy</td>\n",
       "      <td>EMORSUX</td>\n",
       "      <td>5K</td>\n",
       "      <td>UM</td>\n",
       "      <td>16</td>\n",
       "      <td>34</td>\n",
       "      <td>Play</td>\n",
       "    </tr>\n",
       "    <tr>\n",
       "      <th>4</th>\n",
       "      <td>1</td>\n",
       "      <td>5</td>\n",
       "      <td>BetterBot</td>\n",
       "      <td>ACDEITU</td>\n",
       "      <td>L5</td>\n",
       "      <td>..DICATE</td>\n",
       "      <td>28</td>\n",
       "      <td>54</td>\n",
       "      <td>Play</td>\n",
       "    </tr>\n",
       "  </tbody>\n",
       "</table>\n",
       "</div>"
      ],
      "text/plain": [
       "   game_id  turn_number   nickname     rack location      move  points  score  \\\n",
       "0        1            1  BetterBot  DDEGITT       8G       DIG      10     10   \n",
       "1        1            2      stevy  AEHOPUX       7H       HAP      18     18   \n",
       "2        1            3  BetterBot  DEELTTU       6I      LUTE      16     26   \n",
       "3        1            4      stevy  EMORSUX       5K        UM      16     34   \n",
       "4        1            5  BetterBot  ACDEITU       L5  ..DICATE      28     54   \n",
       "\n",
       "  turn_type  \n",
       "0      Play  \n",
       "1      Play  \n",
       "2      Play  \n",
       "3      Play  \n",
       "4      Play  "
      ]
     },
     "metadata": {},
     "output_type": "display_data"
    },
    {
     "data": {
      "text/html": [
       "<div>\n",
       "<style scoped>\n",
       "    .dataframe tbody tr th:only-of-type {\n",
       "        vertical-align: middle;\n",
       "    }\n",
       "\n",
       "    .dataframe tbody tr th {\n",
       "        vertical-align: top;\n",
       "    }\n",
       "\n",
       "    .dataframe thead th {\n",
       "        text-align: right;\n",
       "    }\n",
       "</style>\n",
       "<table border=\"1\" class=\"dataframe\">\n",
       "  <thead>\n",
       "    <tr style=\"text-align: right;\">\n",
       "      <th></th>\n",
       "      <th>game_id</th>\n",
       "      <th>first</th>\n",
       "      <th>time_control_name</th>\n",
       "      <th>game_end_reason</th>\n",
       "      <th>winner</th>\n",
       "      <th>created_at</th>\n",
       "      <th>lexicon</th>\n",
       "      <th>initial_time_seconds</th>\n",
       "      <th>increment_seconds</th>\n",
       "      <th>rating_mode</th>\n",
       "      <th>max_overtime_minutes</th>\n",
       "      <th>game_duration_seconds</th>\n",
       "    </tr>\n",
       "  </thead>\n",
       "  <tbody>\n",
       "    <tr>\n",
       "      <th>0</th>\n",
       "      <td>1</td>\n",
       "      <td>BetterBot</td>\n",
       "      <td>regular</td>\n",
       "      <td>STANDARD</td>\n",
       "      <td>1</td>\n",
       "      <td>2022-08-26 03:38:49</td>\n",
       "      <td>NWL20</td>\n",
       "      <td>1200</td>\n",
       "      <td>0</td>\n",
       "      <td>CASUAL</td>\n",
       "      <td>1</td>\n",
       "      <td>674.844274</td>\n",
       "    </tr>\n",
       "    <tr>\n",
       "      <th>1</th>\n",
       "      <td>2</td>\n",
       "      <td>Super</td>\n",
       "      <td>regular</td>\n",
       "      <td>STANDARD</td>\n",
       "      <td>1</td>\n",
       "      <td>2022-08-10 19:19:59</td>\n",
       "      <td>CSW21</td>\n",
       "      <td>3600</td>\n",
       "      <td>0</td>\n",
       "      <td>RATED</td>\n",
       "      <td>1</td>\n",
       "      <td>364.214418</td>\n",
       "    </tr>\n",
       "    <tr>\n",
       "      <th>2</th>\n",
       "      <td>3</td>\n",
       "      <td>BetterBot</td>\n",
       "      <td>regular</td>\n",
       "      <td>STANDARD</td>\n",
       "      <td>1</td>\n",
       "      <td>2022-09-04 08:04:27</td>\n",
       "      <td>CSW21</td>\n",
       "      <td>900</td>\n",
       "      <td>0</td>\n",
       "      <td>RATED</td>\n",
       "      <td>5</td>\n",
       "      <td>492.268262</td>\n",
       "    </tr>\n",
       "    <tr>\n",
       "      <th>3</th>\n",
       "      <td>4</td>\n",
       "      <td>BetterBot</td>\n",
       "      <td>regular</td>\n",
       "      <td>RESIGNED</td>\n",
       "      <td>0</td>\n",
       "      <td>2022-09-12 02:36:19</td>\n",
       "      <td>CSW21</td>\n",
       "      <td>3600</td>\n",
       "      <td>0</td>\n",
       "      <td>CASUAL</td>\n",
       "      <td>1</td>\n",
       "      <td>350.861141</td>\n",
       "    </tr>\n",
       "    <tr>\n",
       "      <th>4</th>\n",
       "      <td>5</td>\n",
       "      <td>STEEBot</td>\n",
       "      <td>regular</td>\n",
       "      <td>STANDARD</td>\n",
       "      <td>0</td>\n",
       "      <td>2022-09-06 04:31:36</td>\n",
       "      <td>NWL20</td>\n",
       "      <td>1200</td>\n",
       "      <td>0</td>\n",
       "      <td>CASUAL</td>\n",
       "      <td>1</td>\n",
       "      <td>642.688722</td>\n",
       "    </tr>\n",
       "  </tbody>\n",
       "</table>\n",
       "</div>"
      ],
      "text/plain": [
       "   game_id      first time_control_name game_end_reason  winner  \\\n",
       "0        1  BetterBot           regular        STANDARD       1   \n",
       "1        2      Super           regular        STANDARD       1   \n",
       "2        3  BetterBot           regular        STANDARD       1   \n",
       "3        4  BetterBot           regular        RESIGNED       0   \n",
       "4        5    STEEBot           regular        STANDARD       0   \n",
       "\n",
       "            created_at lexicon  initial_time_seconds  increment_seconds  \\\n",
       "0  2022-08-26 03:38:49   NWL20                  1200                  0   \n",
       "1  2022-08-10 19:19:59   CSW21                  3600                  0   \n",
       "2  2022-09-04 08:04:27   CSW21                   900                  0   \n",
       "3  2022-09-12 02:36:19   CSW21                  3600                  0   \n",
       "4  2022-09-06 04:31:36   NWL20                  1200                  0   \n",
       "\n",
       "  rating_mode  max_overtime_minutes  game_duration_seconds  \n",
       "0      CASUAL                     1             674.844274  \n",
       "1       RATED                     1             364.214418  \n",
       "2       RATED                     5             492.268262  \n",
       "3      CASUAL                     1             350.861141  \n",
       "4      CASUAL                     1             642.688722  "
      ]
     },
     "metadata": {},
     "output_type": "display_data"
    }
   ],
   "source": [
    "display(train.head())\n",
    "display(test.head())\n",
    "display(turns.head())\n",
    "display(games.head())"
   ]
  },
  {
   "attachments": {},
   "cell_type": "markdown",
   "metadata": {},
   "source": [
    "From this we can see that there are both numerical and categorical variables in all of the data files.\n",
    "\n",
    "We should check that every entry in a column has the same type (for example, it is possible the CSV file has a column with both integers and strings). We can do this by checking the data types of each column."
   ]
  },
  {
   "cell_type": "code",
   "execution_count": null,
   "metadata": {},
   "outputs": [
    {
     "name": "stdout",
     "output_type": "stream",
     "text": [
      "game_id      int64\n",
      "nickname    object\n",
      "score        int64\n",
      "rating       int64\n",
      "dtype: object\n"
     ]
    }
   ],
   "source": [
    "print(train.dtypes)"
   ]
  },
  {
   "cell_type": "code",
   "execution_count": null,
   "metadata": {},
   "outputs": [
    {
     "name": "stdout",
     "output_type": "stream",
     "text": [
      "game_id       int64\n",
      "nickname     object\n",
      "score         int64\n",
      "rating      float64\n",
      "dtype: object\n"
     ]
    }
   ],
   "source": [
    "print(test.dtypes)"
   ]
  },
  {
   "cell_type": "code",
   "execution_count": null,
   "metadata": {},
   "outputs": [
    {
     "name": "stdout",
     "output_type": "stream",
     "text": [
      "game_id         int64\n",
      "turn_number     int64\n",
      "nickname       object\n",
      "rack           object\n",
      "location       object\n",
      "move           object\n",
      "points          int64\n",
      "score           int64\n",
      "turn_type      object\n",
      "dtype: object\n"
     ]
    }
   ],
   "source": [
    "print(turns.dtypes)"
   ]
  },
  {
   "cell_type": "code",
   "execution_count": null,
   "metadata": {},
   "outputs": [
    {
     "name": "stdout",
     "output_type": "stream",
     "text": [
      "game_id                    int64\n",
      "first                     object\n",
      "time_control_name         object\n",
      "game_end_reason           object\n",
      "winner                     int64\n",
      "created_at                object\n",
      "lexicon                   object\n",
      "initial_time_seconds       int64\n",
      "increment_seconds          int64\n",
      "rating_mode               object\n",
      "max_overtime_minutes       int64\n",
      "game_duration_seconds    float64\n",
      "dtype: object\n"
     ]
    }
   ],
   "source": [
    "print(games.dtypes)"
   ]
  },
  {
   "attachments": {},
   "cell_type": "markdown",
   "metadata": {},
   "source": [
    "Let's also look at the sample submission to see what we're looking for."
   ]
  },
  {
   "cell_type": "code",
   "execution_count": null,
   "metadata": {},
   "outputs": [
    {
     "name": "stdout",
     "output_type": "stream",
     "text": [
      "(22363, 2)\n"
     ]
    },
    {
     "data": {
      "text/html": [
       "<div>\n",
       "<style scoped>\n",
       "    .dataframe tbody tr th:only-of-type {\n",
       "        vertical-align: middle;\n",
       "    }\n",
       "\n",
       "    .dataframe tbody tr th {\n",
       "        vertical-align: top;\n",
       "    }\n",
       "\n",
       "    .dataframe thead th {\n",
       "        text-align: right;\n",
       "    }\n",
       "</style>\n",
       "<table border=\"1\" class=\"dataframe\">\n",
       "  <thead>\n",
       "    <tr style=\"text-align: right;\">\n",
       "      <th></th>\n",
       "      <th>game_id</th>\n",
       "      <th>rating</th>\n",
       "    </tr>\n",
       "  </thead>\n",
       "  <tbody>\n",
       "    <tr>\n",
       "      <th>0</th>\n",
       "      <td>2</td>\n",
       "      <td>1790.322674</td>\n",
       "    </tr>\n",
       "    <tr>\n",
       "      <th>1</th>\n",
       "      <td>7</td>\n",
       "      <td>1790.322674</td>\n",
       "    </tr>\n",
       "    <tr>\n",
       "      <th>2</th>\n",
       "      <td>11</td>\n",
       "      <td>1790.322674</td>\n",
       "    </tr>\n",
       "    <tr>\n",
       "      <th>3</th>\n",
       "      <td>14</td>\n",
       "      <td>1790.322674</td>\n",
       "    </tr>\n",
       "    <tr>\n",
       "      <th>4</th>\n",
       "      <td>27</td>\n",
       "      <td>1790.322674</td>\n",
       "    </tr>\n",
       "  </tbody>\n",
       "</table>\n",
       "</div>"
      ],
      "text/plain": [
       "   game_id       rating\n",
       "0        2  1790.322674\n",
       "1        7  1790.322674\n",
       "2       11  1790.322674\n",
       "3       14  1790.322674\n",
       "4       27  1790.322674"
      ]
     },
     "execution_count": 135,
     "metadata": {},
     "output_type": "execute_result"
    }
   ],
   "source": [
    "sample_sub = pd.read_csv('./data/sample_submission.csv')\n",
    "\n",
    "print(sample_sub.shape)\n",
    "\n",
    "sample_sub.head()"
   ]
  },
  {
   "attachments": {},
   "cell_type": "markdown",
   "metadata": {},
   "source": [
    "We can see here that game_id is in every data file\n",
    "\n",
    "We can also see that rating is in sample, test, and train\n",
    "\n",
    "We should also check for any missing data"
   ]
  },
  {
   "cell_type": "code",
   "execution_count": null,
   "metadata": {},
   "outputs": [
    {
     "data": {
      "text/plain": [
       "game_id                  0\n",
       "first                    0\n",
       "time_control_name        0\n",
       "game_end_reason          0\n",
       "winner                   0\n",
       "created_at               0\n",
       "lexicon                  0\n",
       "initial_time_seconds     0\n",
       "increment_seconds        0\n",
       "rating_mode              0\n",
       "max_overtime_minutes     0\n",
       "game_duration_seconds    0\n",
       "dtype: int64"
      ]
     },
     "execution_count": 136,
     "metadata": {},
     "output_type": "execute_result"
    }
   ],
   "source": [
    "games.isna().sum()"
   ]
  },
  {
   "cell_type": "code",
   "execution_count": null,
   "metadata": {},
   "outputs": [
    {
     "data": {
      "text/plain": [
       "game_id             0\n",
       "turn_number         0\n",
       "nickname            0\n",
       "rack            69390\n",
       "location       132239\n",
       "move              454\n",
       "points              0\n",
       "score               0\n",
       "turn_type         395\n",
       "dtype: int64"
      ]
     },
     "execution_count": 137,
     "metadata": {},
     "output_type": "execute_result"
    }
   ],
   "source": [
    "turns.isna().sum()"
   ]
  },
  {
   "cell_type": "code",
   "execution_count": null,
   "metadata": {},
   "outputs": [
    {
     "data": {
      "text/plain": [
       "game_id         0\n",
       "nickname        0\n",
       "score           0\n",
       "rating      22363\n",
       "dtype: int64"
      ]
     },
     "execution_count": 138,
     "metadata": {},
     "output_type": "execute_result"
    }
   ],
   "source": [
    "test.isna().sum()"
   ]
  },
  {
   "cell_type": "code",
   "execution_count": null,
   "metadata": {},
   "outputs": [
    {
     "data": {
      "text/plain": [
       "game_id     0\n",
       "nickname    0\n",
       "score       0\n",
       "rating      0\n",
       "dtype: int64"
      ]
     },
     "execution_count": 139,
     "metadata": {},
     "output_type": "execute_result"
    }
   ],
   "source": [
    "train.isna().sum()"
   ]
  },
  {
   "attachments": {},
   "cell_type": "markdown",
   "metadata": {},
   "source": [
    "It seems that our biggest problems lie with rack, location, move, and turn_type in the turn.csv file.\n",
    "\n",
    "We also have missing data in the test file with regards to rating, but that is to be expected.\n",
    "\n",
    "We can see where this missing data might be with a heatmap."
   ]
  },
  {
   "cell_type": "code",
   "execution_count": null,
   "metadata": {},
   "outputs": [
    {
     "data": {
      "text/plain": [
       "<Axes: >"
      ]
     },
     "execution_count": 140,
     "metadata": {},
     "output_type": "execute_result"
    },
    {
     "data": {
      "image/png": "[encoded data removed]",
      "text/plain": [
       "<Figure size 640x480 with 1 Axes>"
      ]
     },
     "metadata": {},
     "output_type": "display_data"
    }
   ],
   "source": [
    "import seaborn\n",
    "seaborn.heatmap(turns.isnull(), cbar=False)"
   ]
  },
  {
   "attachments": {},
   "cell_type": "markdown",
   "metadata": {},
   "source": [
    "# Data Visualization"
   ]
  },
  {
   "attachments": {},
   "cell_type": "markdown",
   "metadata": {},
   "source": [
    "Let's see how many of each bot played how many games in the training set."
   ]
  },
  {
   "cell_type": "code",
   "execution_count": null,
   "metadata": {},
   "outputs": [
    {
     "data": {
      "text/plain": [
       "([<matplotlib.patches.Wedge at 0x2a4b66e10>,\n",
       "  <matplotlib.patches.Wedge at 0x2b7a2e990>,\n",
       "  <matplotlib.patches.Wedge at 0x2a4b65f90>],\n",
       " [Text(0.5619092679025921, 0.945652142516038, 'BetterBot'),\n",
       "  Text(-1.098817783596639, 0.05098508067827218, 'STEEBot'),\n",
       "  Text(0.5174743141448869, -0.9706803460461529, 'HastyBot')])"
      ]
     },
     "execution_count": 141,
     "metadata": {},
     "output_type": "execute_result"
    },
    {
     "data": {
      "image/png": "[encoded data removed]",
      "text/plain": [
       "<Figure size 640x480 with 1 Axes>"
      ]
     },
     "metadata": {},
     "output_type": "display_data"
    }
   ],
   "source": [
    "import matplotlib.pyplot as plot\n",
    "from collections import Counter\n",
    "\n",
    "counting = Counter(train[\"nickname\"])\n",
    "\n",
    "bot_names =[\"BetterBot\", \"STEEBot\", \"HastyBot\"]\n",
    "\n",
    "bot_counts = [counting[bot] for bot in bot_names]\n",
    "\n",
    "plot.pie(bot_counts, labels =  bot_names, autopct=None)"
   ]
  },
  {
   "attachments": {},
   "cell_type": "markdown",
   "metadata": {},
   "source": [
    "Let's now visualize the variable we're trying to solve for. We'll want to see how the ratings are distributed."
   ]
  },
  {
   "cell_type": "code",
   "execution_count": null,
   "metadata": {},
   "outputs": [
    {
     "data": {
      "text/plain": [
       "<Axes: xlabel='rating', ylabel='Count'>"
      ]
     },
     "execution_count": 142,
     "metadata": {},
     "output_type": "execute_result"
    },
    {
     "data": {
      "image/png": "[encoded data removed]",
      "text/plain": [
       "<Figure size 640x480 with 1 Axes>"
      ]
     },
     "metadata": {},
     "output_type": "display_data"
    }
   ],
   "source": [
    "seaborn.histplot(train['rating'], ax=plot.gca())"
   ]
  },
  {
   "attachments": {},
   "cell_type": "markdown",
   "metadata": {},
   "source": [
    "We can see here that there seems to be a jump in scores somewhere between 1400 and 1600 for some reason. Let's get more info on that."
   ]
  },
  {
   "cell_type": "code",
   "execution_count": null,
   "metadata": {},
   "outputs": [
    {
     "name": "stdout",
     "output_type": "stream",
     "text": [
      "1500\n",
      "7575\n"
     ]
    }
   ],
   "source": [
    "import statistics\n",
    "\n",
    "print(statistics.mode(train['rating']))\n",
    "\n",
    "print(list(train['rating']).count(1500))"
   ]
  },
  {
   "attachments": {},
   "cell_type": "markdown",
   "metadata": {},
   "source": [
    "Looks like we have a most common value of 1500, with 7575 entries. This piques my interest as it seems to come out of nowhere. All the other values around 1500 are low in comparison. So this is very likely to be significant.\n",
    "\n",
    "Maybe that's the score that a player gets when they first start playing. We should look at the scores with the earliest user creation date later.\n",
    "\n",
    "First, let's look at how many times each non-bot account played a game."
   ]
  },
  {
   "cell_type": "code",
   "execution_count": null,
   "metadata": {},
   "outputs": [
    {
     "name": "stdout",
     "output_type": "stream",
     "text": [
      "[(6576, 'BB-8'), (1759, 'pandorable'), (1029, 'Goldenlamb'), (592, 'HivinD'), (576, 'kar2008'), (561, 'Rexington'), (555, 'Anita'), (522, 'talulah'), (511, 'deathstar'), (503, 'Kovert'), (461, 'Matt_86'), (451, 'Kathleen3'), (441, 'Trayz'), (410, 'stevy'), (399, 'tarkovsky7'), (388, 'Glilac'), (384, 'Esan'), (374, 'NoelL'), (370, 'Zynx'), (369, 'Crookshanks'), (336, 'BethMix'), (318, 'ruby43'), (311, 'thraoph'), (306, 'Xerxes'), (302, 'snorkl'), (300, 'Lola'), (296, 'Yracivc'), (294, 'LeChamp21'), (280, 'pisces223'), (275, 'patricck'), (268, 'NurdiniDelisha'), (264, 'Vishy56789'), (261, 'Laju'), (254, 'gameatiruth'), (254, 'davidavid'), (247, 'TrentonTron'), (246, 'bubbat'), (245, 'jaundiced'), (243, 'bbharath'), (238, 'rak1507'), (236, 'BeautifulWaste'), (235, 'akiff_faleel'), (234, 'wagyus'), (232, 'shaneabbas'), (229, 'PVMG'), (218, 'noahslat'), (217, 'Banman1'), (216, 'shcheah'), (215, 'ChsrQat'), (206, 'atay8'), (205, 'Inandoutworker'), (204, 'MSHS-21KADMUSLEE'), (203, 'Olympicnaija'), (202, 'plunder1'), (196, 'sbush'), (194, 'Uzams'), (194, 'Goldenwick'), (193, 'MarieDee'), (192, 'royster'), (189, 'sungoer'), (189, 'BeanzCyclones'), (186, 'Sopejohn'), (185, 'chloe'), (184, 'saint'), (183, 'Mimix'), (181, 'gerald0506'), (180, 'Kakapo'), (178, 'supriya'), (176, 'UcheVictor'), (166, 'magic29'), (161, 'meetsumeet'), (160, 'Kii'), (159, 'LIMEUJIE'), (157, 'Tazz'), (155, 'MasterYeri'), (154, 'mytbear'), (152, 'vannandonly'), (152, 'orlyns'), (151, 'ccm'), (151, 'Indominus'), (150, 'squashy'), (147, 'proton2020'), (146, 'tramper'), (141, 'vtr14AA'), (141, 'Willeford'), (140, 'jodel'), (140, 'Omoyedivine'), (139, 'thisguy'), (138, 'MagiKrap'), (135, 'MYJTehx'), (133, 'Camelngz'), (132, 'Gtowngrad'), (130, 'nykxis'), (130, 'cudbear'), (130, 'Bingobabe'), (129, 'busker221'), (129, 'SirLee'), (127, 'phavour'), (127, 'Abdulmumin'), (126, 'joelimus'), (125, 'Torquayfan2303'), (119, 'NishanyaGammanpila'), (117, 'ZeMing'), (116, 'TheGidfather'), (115, 'kfraley'), (113, 'WELCOME'), (113, 'FuriousTiles'), (112, 'ahmadthegreat'), (111, 'Knight2014'), (109, 'Marlon'), (108, 'vinylchances'), (108, 'bobcubed'), (106, 'runnerguy'), (105, 'Modupe'), (104, 'Leo'), (104, 'KoalaJ'), (103, 'auricle'), (103, 'Toronto2'), (102, 'peter3000'), (102, 'HAYDEN'), (102, 'Edemaro'), (101, 'Stanley'), (99, 'GrubbTime'), (99, 'DoubleJay'), (99, 'CobaltBlue'), (98, 'Hercules'), (97, 'verajoan'), (97, 'rasnz'), (96, 'saracen256'), (94, 'sarainvt'), (94, 'Lydker'), (94, 'GNIK'), (93, 'MSHS-21LEEJINYIH'), (91, 'oranggua'), (90, 'forwords'), (89, 'TT9000'), (88, 'spark1'), (88, 'NatthanonL'), (88, 'AASM16'), (87, 'Mvoi'), (85, 'Yuki86'), (85, 'Avyze'), (84, 'sstastic'), (83, 'shaunthesheep'), (83, 'Galena'), (81, 'MankDemes'), (80, 'tripack'), (80, 'dathanl'), (80, 'SQUID'), (80, 'JackHKeynes'), (79, 'katrushka'), (78, 'ji1222'), (77, 'chrisdon8tsalot'), (77, 'Aghalya'), (76, 'scaredy'), (76, 'cayden'), (76, 'Loeloeraai'), (76, 'Kaumadee'), (75, 'Venater'), (75, 'Pasindu'), (75, 'MB2'), (74, 'DBrumby'), (73, 'gregthaopenny'), (73, 'cityboy'), (73, 'Paroo'), (73, 'Nishtar'), (73, 'Kimori101'), (73, 'AWFUL'), (72, 'Possibilites'), (71, 'dystopianist'), (71, 'Scrabbler17'), (70, 'halidom21'), (69, 'twjiayu'), (69, 'jellyfish'), (69, 'afeicher'), (69, 'YLT'), (67, 'mmmmice'), (67, 'lsutiger'), (67, 'SirFink'), (67, 'Luigi19'), (66, 'Marble_Donut'), (65, 'Ibrahim28'), (64, 'adola'), (64, 'Mollygardner'), (64, 'Cromwell8'), (63, 'NimuthuWitharana'), (62, 'Fwesha'), (62, 'CornyG'), (61, 'Arnav1'), (60, 'frz'), (59, 'Avinesh'), (58, 'tsardom'), (58, 'Meith'), (57, 'shreyas3'), (57, 'ariel2008'), (57, 'Xcalibur'), (57, 'Nixaplayswords'), (57, 'Kwyet'), (56, 'zem'), (56, 'SMD08C'), (56, 'Rbwingi'), (55, 'gopostal24'), (55, 'MMAViswanathan2741'), (54, 'sassaba'), (53, 'jasonkb'), (53, 'UMIAQ'), (52, 'petulazhuren'), (52, 'nyjets313'), (52, 'Scrabble_Enjoyer27'), (51, 'evatt'), (51, 'daddyfiyin'), (51, 'Y4NSH3Ng'), (51, 'Tingming'), (51, 'Qi'), (51, 'PENapasa'), (51, 'Khairul.A'), (50, 'rameez'), (50, 'The_Master'), (50, 'Raash'), (50, 'Favournew'), (49, 'meganlmz'), (49, 'jayl'), (49, 'Munyama'), (48, 'rodchris71'), (48, 'MarvinK'), (47, 'Meiira4c'), (46, 'yss'), (46, 'Juma'), (46, 'IlmanHaziq'), (46, 'BillooBhai_Pak'), (45, 'Shahjahan'), (45, 'Rlowengrub'), (45, 'KongCH'), (45, 'Kev'), (45, 'DonkeyYote'), (44, 'reinked'), (44, 'jocelot'), (44, 'LadyFringe'), (44, 'Kabashibi'), (44, 'Alyaa_Hana'), (43, 'HashamHadi'), (43, 'BobVanech'), (43, 'Bliz'), (42, 'wagyu'), (42, 'Nursaidatul'), (42, 'ChrisOB'), (41, 'Nick'), (41, 'Brianm'), (40, 'inshal'), (40, 'hickoryhoosier'), (40, 'Wildgarlic'), (39, 'A_layered_OG'), (38, 'xinjiechin'), (38, 'Soybadz01'), (38, 'Scrabbeduto'), (38, 'Muendo'), (38, 'Manop'), (37, 'markc1945'), (37, 'HappyWanderer'), (37, 'Bucks'), (36, 'wzy3112'), (36, 'tHeDUke'), (36, 'paterae'), (36, 'ooo999999'), (36, 'breacher'), (36, 'Juniper'), (36, 'HJFan'), (36, 'ArthurB'), (36, 'Affan960'), (35, 'sufiii'), (35, 'prsgym02'), (35, 'matterhorn'), (35, 'iamnotbill'), (35, 'Puttapong'), (35, 'PREXY8ADER'), (34, 'shaila'), (34, 'jivan21'), (34, 'djMikSlay'), (34, 'cccc'), (34, 'Zanderman'), (34, 'Starcast'), (34, 'Sirjan1'), (34, 'Elvygrace'), (34, 'Arindam'), (33, 'stramash'), (33, 'josh'), (33, 'eideticeve'), (33, 'edenchoo'), (33, 'Idante'), (33, 'Banul07'), (33, 'AliSalman1'), (32, 'qamardeen'), (32, 'darrenkhoo'), (32, 'Dutch'), (31, 'arjun15'), (31, 'Zepthyeo'), (31, 'Sluggin24'), (30, 'sksac2022'), (30, 'earth'), (30, 'Sally'), (30, 'Onwords'), (30, 'Manuel'), (30, '220674_ZAVEPHUA'), (29, 'madhulekha'), (29, 'JohnMilton13'), (29, 'Cepheid'), (28, 'rqts'), (28, 'robint'), (28, 'randyhersom'), (28, 'bynak'), (28, 'Raihan'), (28, 'Kavindu'), (28, 'Hetman'), (27, 'naushika'), (27, 'jason141414'), (27, 'AngieOsai'), (26, 'monica101'), (26, 'Gazzu'), (26, 'Cotopaxi'), (25, 'whatnoloan'), (25, 'neymar'), (25, 'kenting'), (25, 'HaziqahR'), (24, 'wordhero'), (24, 'ssirin.n'), (24, 'samsiah06'), (24, 'phil-s'), (24, 'frs'), (24, 'QueenE'), (24, 'MQK'), (24, 'Limo'), (24, 'Bright_10'), (23, 'aaaBbrr'), (23, 'RightBehindYou'), (23, 'Mohd.Irfan'), (23, 'JayKru'), (23, 'DDarien'), (23, 'Best459'), (22, 'suffixt'), (22, 'iyerkala63'), (22, 'Vidyam'), (22, 'Rachels'), (22, 'QueenOfHearts'), (22, 'Hadexzy'), (21, 'shyspot'), (21, 'saviosas'), (21, 'cabreeze'), (21, 'arunwoogles'), (21, 'Yasiru'), (21, 'Spiceman'), (21, 'Ricker'), (21, 'Raven10'), (21, 'RKS'), (21, 'Orixa'), (21, 'Gath47'), (21, 'Galion'), (20, 'sl1000'), (20, 'rev'), (20, 'hellacia'), (20, 'daylight'), (20, 'Tueyhom'), (20, 'Shalini'), (20, 'Melchi'), (20, 'Fassie'), (20, 'DinethScrabber123'), (19, 'mingxuan8'), (19, 'inkylap'), (19, 'bonehead'), (19, 'Takahashi'), (19, 'Norse'), (19, 'MAKTABMAHMUDBLG'), (19, 'DJosh'), (19, '0927399533'), (18, 'juliuswilson'), (18, 'batmannq'), (18, 'Tundhey_S'), (17, 'saladboy'), (17, 'ihatechelsea'), (17, 'dwr'), (17, 'adityaputra'), (17, 'Yuvinalis'), (17, 'Yamahama'), (17, 'Rose_06'), (17, 'MobileJim'), (17, 'FarlinaJames06'), (17, 'Fabio'), (17, 'Authority'), (16, 'waxmedry'), (16, 'mikebaron'), (16, 'markisa'), (16, 'lluke'), (16, 'Spidervillain'), (16, 'Sib_Mk'), (16, 'SMKSINAJWA'), (16, 'Puzzler65'), (16, 'Okosagah'), (16, 'LucasSydney'), (16, 'LiyanaAzman'), (16, 'Jayallard'), (16, 'CodeTitan'), (16, 'Baphead'), (15, 'zman'), (15, 'hokomayin'), (15, 'enigmatic'), (15, 'def'), (15, 'cuckookachoo'), (15, 'MarcRoddis'), (15, 'Keenslee'), (15, 'Gimhan04'), (15, 'Archana_Padumadasa'), (14, 'warrior'), (14, 'wackynuts'), (14, 'ponp'), (14, 'pholser'), (14, 'nilina'), (14, 'ksa'), (14, 'joeboy2'), (14, 'jayaska'), (14, 'cwaniak'), (14, 'awotinde'), (14, 'WzofDgoose'), (14, 'Vidya'), (14, 'SGP'), (14, 'SCHPOTT'), (14, 'SARANYA_4850z'), (14, 'Pranjal1307'), (14, 'OoiPeiXi'), (14, 'Jerry47'), (14, 'Jeps'), (13, 'deldar182'), (13, 'audrey.lwx'), (13, 'Wayn'), (13, 'Umbra'), (13, 'SrushtiRG'), (13, 'ManaalAsher'), (13, 'HaDZ'), (13, 'Emeryz'), (13, 'Devansh_Malpani'), (13, 'ChrisNtege'), (13, 'Alleshfemi'), (13, 'Ahmed121'), (12, 'mayankkh'), (12, 'jadeite'), (12, 'huimin'), (12, 'ericdp'), (12, 'budak'), (12, 'ZARAKHAN'), (12, 'Thomson_Law_Long_Yin'), (12, 'Kiyo'), (12, 'Direction'), (12, 'Bobolingua'), (12, 'AVA_UwU_WYNA'), (11, 'rawich'), (11, 'jellybeanshake'), (11, 'Shareenni1708'), (11, 'Rebowman11'), (11, 'Narmiii'), (11, 'Casty'), (11, '27.ching'), (10, 'yiyang05'), (10, 'taqi'), (10, 'sidnit'), (10, 'sellingmycart'), (10, 'odngkr'), (10, 'hasali.R'), (10, 'burtmunch'), (10, 'TheAgentIntellect'), (10, 'TJJ-SJKCPEIYANG'), (10, 'Ryder'), (10, 'Peanutbuttercake'), (10, 'MomGoose'), (10, 'Mishamuz'), (10, 'MasterBot'), (10, 'MAS_NP_00'), (10, 'Logank'), (10, 'Kyaperx'), (10, 'JustLearn'), (10, 'HM123'), (10, 'HBA'), (10, 'Clive'), (10, 'Aresea'), (10, 'Achan'), (9, 'zugzwang'), (9, 'zhien425'), (9, 'shreewhatsup'), (9, 'psyadam'), (9, 'jaiwynnkhor'), (9, 'greenmountain1'), (9, 'dugy1001'), (9, 'clinton'), (9, 'chewkz'), (9, 'carlynn'), (9, 'Unique123'), (9, 'TheOneWhoKnocks'), (9, 'Sunardi'), (9, 'Patcha2304'), (9, 'Paohsien80'), (9, 'NdiranguKaranjq'), (9, 'MiyasiPremaratne5H'), (9, 'Mattoid'), (9, 'KhunBP'), (9, 'Jkopczak'), (9, 'HenryLou'), (9, 'Ethan_Zhang'), (9, 'CLSmith15'), (9, 'Andrian'), (8, 'xOnlyJon'), (8, 'tbro'), (8, 'tariffs'), (8, 'sigurros'), (8, 'lkb'), (8, 'drizzt'), (8, 'bnjy'), (8, 'aarrgh'), (8, 'Vassargrad'), (8, 'Tonliwthestar'), (8, 'QueenBeeBee'), (8, 'Pidgestar'), (8, 'Panyee'), (8, 'Moses'), (8, 'MeatBallYum'), (8, 'MARIESHAMARIAPPAN'), (8, 'JustJoshing963'), (8, 'Has98'), (8, 'Gblehbo'), (8, 'CYD0799'), (8, 'AmnaNoor'), (8, 'AlexisKoh'), (7, 'zuzu'), (7, 'zariel'), (7, 'vince'), (7, 'thyme'), (7, 'swagatn'), (7, 'stefanf'), (7, 'sas23'), (7, 'roboto'), (7, 'mihili_h'), (7, 'mfurqon30'), (7, 'kingso33'), (7, 'kanbutsu'), (7, 'jezail'), (7, 'isaac2'), (7, 'hughesovka'), (7, 'Yummy_Justin_Beiber'), (7, 'Wordygram'), (7, 'Theerasit'), (7, 'Swaits'), (7, 'Piro'), (7, 'Lorenzo'), (7, 'Jxuan'), (7, 'Firebird'), (7, 'FYI_This_Is_Ali'), (7, 'Cracker'), (7, 'ChouChou'), (7, 'Bright'), (7, 'Bravowhisky'), (7, 'BJCUBBS'), (7, 'Ashadow'), (7, 'Alexaa'), (7, 'Adhen'), (7, 'Abbyscrabby'), (6, 'zloty'), (6, 'tommy123'), (6, 'titan124'), (6, 'thompson8295'), (6, 'sharpeners'), (6, 'liberop'), (6, 'hosannasendie'), (6, 'diti'), (6, 'coolwhip'), (6, 'andreatan'), (6, 'amogh'), (6, 'Yushetra18'), (6, 'Yue'), (6, 'Unstoppable'), (6, 'TKC'), (6, 'PureleyX'), (6, 'PHEEBZS'), (6, 'Muhassan'), (6, 'MLCLLEH'), (6, 'MBSSKL'), (6, 'Krusubin'), (6, 'JoanaCL'), (6, 'Jam2525'), (6, 'J-Oriola'), (6, 'Herbalist85'), (6, 'FieryLow'), (6, 'DorcasA'), (6, 'Dianaros'), (6, 'Austinho9'), (6, 'Aurelian'), (6, 'Angel1234'), (5, 'zomban'), (5, 'tontan2026'), (5, 'teenoiz'), (5, 'pheebztina'), (5, 'patwill71'), (5, 'mwamba'), (5, 'mirana'), (5, 'lobsterminivan'), (5, 'kerwood'), (5, 'kandez'), (5, 'jesusbeloved'), (5, 'gcviebranzjr'), (5, 'fsthai'), (5, 'deflate2'), (5, 'cherish'), (5, 'aphasiac'), (5, 'angeline521'), (5, 'Zenith'), (5, 'YoWaviee'), (5, 'TANGKAK_SMKLEDANG'), (5, 'Seshaya_Wijesinghe'), (5, 'RAZAAQUE'), (5, 'Praepraguy'), (5, 'Pesulapmerah'), (5, 'Nurfasha'), (5, 'NicHong'), (5, 'NBLOVE'), (5, 'MotoMom'), (5, 'MimiH'), (5, 'MEHAAN'), (5, 'Janua'), (5, 'Ivan_Siu'), (5, 'IAMGEORGE'), (5, 'GoatHere'), (5, 'Blinger'), (5, 'Basonomia28'), (5, 'Amadeus'), (5, 'Aimanh'), (5, 'AWSOM_TS'), (5, '171_selene'), (4, 'zyzzyva'), (4, 'vyasadheva'), (4, 'vagus'), (4, 'unofficial'), (4, 'smol1'), (4, 'parteegirl'), (4, 'nur4'), (4, 'kushy'), (4, 'jrd'), (4, 'jabulou'), (4, 'esd'), (4, 'deflate'), (4, 'darul'), (4, 'buksss'), (4, 'allenjames'), (4, 'YHKwong'), (4, 'XiEn'), (4, 'WAMBZ_Pak'), (4, 'Trinity17'), (4, 'Stian'), (4, 'SmartGoose'), (4, 'Sanjivenmoe'), (4, 'SMKA_Pahang'), (4, 'Reinogs'), (4, 'Princely'), (4, 'NotSonal'), (4, 'Nabugo'), (4, 'Manhunt'), (4, 'MGI'), (4, 'Lightningbird'), (4, 'JustJester'), (4, 'Jake-H'), (4, 'Ituah009'), (4, 'Hawraa'), (4, 'ENGBoard2'), (4, 'CyberQuad'), (4, 'Cvr24'), (4, 'ChenniePang'), (4, 'Casseydass'), (4, 'Bubba'), (4, 'BreadEmperoar'), (4, 'BondGirl1968'), (4, 'Bird2'), (4, 'AmatuerWanderer'), (4, 'Akpomiemie'), (4, 'Abdulateef'), (3, 'yudaekap'), (3, 'yongjianrong'), (3, 'whimsy'), (3, 'v6vair'), (3, 'v123'), (3, 'ticernnaz'), (3, 'tagcoins'), (3, 'spinach'), (3, 'replacehim'), (3, 'puddingy1'), (3, 'penumbra'), (3, 'paperandglue'), (3, 'orange'), (3, 'mishu7'), (3, 'mgca61'), (3, 'mentalplayground'), (3, 'megazemega'), (3, 'marcmyword'), (3, 'maayyyyyy'), (3, 'lordofthefries'), (3, 'jvp'), (3, 'jennyfer'), (3, 'forysthe'), (3, 'crocuscorms'), (3, 'bytex'), (3, 'bigwigboss'), (3, 'athgr'), (3, 'aqilfattah'), (3, 'andriatly'), (3, 'ZaWarudo'), (3, 'Yitzy'), (3, 'Yao2011'), (3, 'Wordbound'), (3, 'VOLDERMORTS_NOSE'), (3, 'Ukiyo'), (3, 'Tineth12345678910'), (3, 'Shariveen19'), (3, 'Scrabbling'), (3, 'Scal'), (3, 'Savipeth'), (3, 'Savee_P'), (3, 'Sachin1'), (3, 'SM_ROMPIN'), (3, 'SMK_SUNGAI_DAMIT'), (3, 'RomeoRat'), (3, 'Prime'), (3, 'Pluperfect'), (3, 'Phenom'), (3, 'Olinga'), (3, 'Okechi'), (3, 'Ode'), (3, 'Nisul'), (3, 'NicoleChan'), (3, 'Nethindu2008'), (3, 'MsSpeller'), (3, 'Mikasaa'), (3, 'Mangala'), (3, 'MALOBI01'), (3, 'LuckyLuckyLUCKYEXAM'), (3, 'Lhy'), (3, 'LMN'), (3, 'LAWERNHUNG'), (3, 'Knowledgefinder'), (3, 'Kievachi'), (3, 'Kidikibudi'), (3, 'Kayhueen'), (3, 'Jomy'), (3, 'JB_SJKCFY1'), (3, 'Ishika_9'), (3, 'Irzan'), (3, 'In_tae'), (3, 'Impoor'), (3, 'ISOLEX'), (3, 'Hriday'), (3, 'Gewgaw'), (3, 'Francis'), (3, 'ERS'), (3, 'Douglas2388'), (3, 'DotdogBamburgur'), (3, 'DollarBird'), (3, 'Damu'), (3, 'Bosky'), (3, 'AqilZafran'), (3, 'AlmaAzZahra'), (2, 'wooper'), (2, 'timetravellers'), (2, 'sonic'), (2, 'rellicks'), (2, 'ramanvis88'), (2, 'picopaco'), (2, 'oloro1'), (2, 'natsumarco'), (2, 'mymix'), (2, 'michelle108'), (2, 'mesnamik'), (2, 'lynellia'), (2, 'luckyboy77'), (2, 'kojin'), (2, 'joingler'), (2, 'jack'), (2, 'irfan2024'), (2, 'horcrux'), (2, 'gumshoe2'), (2, 'felicity'), (2, 'edric'), (2, 'dzn_duke'), (2, 'drewinva'), (2, 'doe35813'), (2, 'chasingvestigialtail'), (2, 'bunch'), (2, 'bettykk'), (2, 'b0nf1re'), (2, 'averysoonwanyan'), (2, 'aphis99'), (2, 'alvinlimzr'), (2, 'YunShiRen'), (2, 'Yeo'), (2, 'Wan07'), (2, 'VoiceChip'), (2, 'Venuka8'), (2, 'Tybie07'), (2, 'TragicTragedy'), (2, 'TomaTO'), (2, 'TimothySean'), (2, 'Tiles'), (2, 'Thurga'), (2, 'Thomasanime'), (2, 'Textrous'), (2, 'Tenyu'), (2, 'Tehyuken'), (2, 'THARIN_KARIYAWASAM'), (2, 'Sokhim1'), (2, 'Silent'), (2, 'Sierra2'), (2, 'ShayleneeMoses'), (2, 'Saadkhan'), (2, 'SKRPMUZWIN'), (2, 'SKKMJ'), (2, 'SGT_SMJKSH'), (2, 'S0nk0lp0'), (2, 'Rumika'), (2, 'Raveesh'), (2, 'Q-Q'), (2, 'PrinceSapu'), (2, 'Nurayien01'), (2, 'Noah'), (2, 'Nickphone'), (2, 'Mzine'), (2, 'Mujtaba'), (2, 'MrPhil'), (2, 'Mahasshrie'), (2, 'Macktox'), (2, 'MMAESECMeyyazhahan'), (2, 'Leelamuthu'), (2, 'LayinTile'), (2, 'LDMAN'), (2, 'Kingoflettuce'), (2, 'Kesavan'), (2, 'Jokker'), (2, 'Jantay'), (2, 'Imperious'), (2, 'Ieatchicken4'), (2, 'Hazman01'), (2, 'Hawkman'), (2, 'Harith_scrabble'), (2, 'Garvey4488'), (2, 'Garrick'), (2, 'GDogg'), (2, 'Fahmi'), (2, 'Ericoid'), (2, 'Emoticon'), (2, 'Dustin'), (2, 'Doneli'), (2, 'DelrayScrabbler'), (2, 'DArtistB4u'), (2, 'Chenyh'), (2, 'Blue-DoubleM4-6'), (2, 'BP_SMKTBP'), (2, 'Alex1959'), (2, 'Aimanzharfan'), (2, 'Afifahnidaulhaq'), (2, 'Adnan'), (2, '1'), (1, 'xinyen'), (1, 'wpr'), (1, 'wongelvan'), (1, 'vchase'), (1, 'uzum3'), (1, 'turtle'), (1, 'tryphe64'), (1, 'swee'), (1, 'smashsmash'), (1, 'sjkcyhkk'), (1, 'shunmann'), (1, 'senukans'), (1, 'secretsurname'), (1, 'sarahrazak'), (1, 'rishabbhandari80'), (1, 'rinaefo'), (1, 'rbhatz'), (1, 'psyduck'), (1, 'psh'), (1, 'nehamarson'), (1, 'mitravijayan'), (1, 'megrisdal'), (1, 'masterrabbit'), (1, 'llw'), (1, 'kurgan'), (1, 'kjp166'), (1, 'kiroro'), (1, 'kaptenunta'), (1, 'kacattac'), (1, 'justinsheridan'), (1, 'jopert'), (1, 'jonsboulangerie'), (1, 'jolinn'), (1, 'jmerlau'), (1, 'jayy'), (1, 'iaredlim'), (1, 'hussaini2011'), (1, 'huiqii'), (1, 'html_1245'), (1, 'guanhui'), (1, 'fawzah'), (1, 'fariha2022'), (1, 'easonloh'), (1, 'earthswift'), (1, 'dresdenlim'), (1, 'drearth'), (1, 'dogman'), (1, 'derickalim'), (1, 'deflation6'), (1, 'curtis_smith'), (1, 'cikupat'), (1, 'cfonseka'), (1, 'bhread'), (1, 'armildaniscala'), (1, 'antonio'), (1, 'angellharvv'), (1, 'ammarrazin'), (1, 'ahadriaz'), (1, 'aequorin'), (1, 'abbyabby'), (1, 'Zeaver'), (1, 'Zadboi'), (1, 'ZHUANGDALEJINGLE'), (1, 'Yurini'), (1, 'Woolacon'), (1, 'WITCHY'), (1, 'Unhuman'), (1, 'Ulixis'), (1, 'Supphakrit'), (1, 'Sunisa'), (1, 'SibSquad'), (1, 'Shobha7'), (1, 'Sharfree'), (1, 'Shanthoosh'), (1, 'Schrvhient81'), (1, 'Scaevola'), (1, 'SamuelJam'), (1, 'SMSTANNE'), (1, 'SMKSIK_GROUP2'), (1, 'SMKMAJAKIR'), (1, 'SMJKJitSin'), (1, 'SMHF7'), (1, 'SGT-SMKMIL'), (1, 'SBPIKuantan'), (1, 'Rutaremwa'), (1, 'Royce1'), (1, 'Royce'), (1, 'PohJX'), (1, 'Patchara'), (1, 'Papa'), (1, 'Ottothedog'), (1, 'Opar'), (1, 'OhMel'), (1, 'Nwhisper'), (1, 'Nuzul-Nasuha'), (1, 'NurIman'), (1, 'Nonna2trips'), (1, 'NethukaMihisara3'), (1, 'Ndnzhmhkm'), (1, 'Nananancy'), (1, 'Nadiahanin9508'), (1, 'NOOB1000'), (1, 'NIRAN14'), (1, 'NANIE72'), (1, 'Muqeetyu'), (1, 'Morraconda'), (1, 'Mira_Wignaraja'), (1, 'MineC'), (1, 'MikaP'), (1, 'Mercuryishot'), (1, 'Meleandrea25'), (1, 'Mayy'), (1, 'Mattsky'), (1, 'Marc'), (1, 'MAS_NicholasPhua00'), (1, 'Loges'), (1, 'Littihop'), (1, 'LifeIsElsewhere'), (1, 'Kimmalyn'), (1, 'Kazolex'), (1, 'KLG_SMKSI'), (1, 'Joe_KE'), (1, 'JoWiz'), (1, 'JingYaoTheNoob'), (1, 'Jemz'), (1, 'Issacbruh'), (1, 'Iris_Madiha'), (1, 'Ibitoyedaniel'), (1, 'Hibro'), (1, 'HasyaKN'), (1, 'Haryuda'), (1, 'HONGZHE_MEB2101B'), (1, 'Gxmezq'), (1, 'FEDERATIONofSOLARIA'), (1, 'Eyesee7'), (1, 'Elapsed'), (1, 'Ela'), (1, 'Eheads'), (1, 'Eashan'), (1, 'DuckT8'), (1, 'Danuk'), (1, 'Dani'), (1, 'Courgette'), (1, 'Coggles'), (1, 'Chansa0202'), (1, 'CaptainPringlez'), (1, 'Brownie'), (1, 'Bellabong'), (1, 'Azam2010'), (1, 'Auffa'), (1, 'Ashraff6B'), (1, 'Anita_H'), (1, 'Anbu'), (1, 'Amayzing123'), (1, 'Alphonse46'), (1, 'Aleesa_Amarachukwu'), (1, 'AimenFaisal'), (1, 'AidanHo'), (1, 'AhmedSalman'), (1, 'Ahana'), (1, 'Aexisn'), (1, 'ARLONG573'), (1, 'ARIEFAHMAD'), (1, 'ADHEEKSHANA'), (1, 'A.Hanafi'), (1, '5k2smart'), (1, '0188889876')]\n"
     ]
    }
   ],
   "source": [
    "non_bot_names = [name for name in counting.keys() if name not in bot_names]\n",
    "non_bot_counts = [counting[name] for name in non_bot_names]\n",
    "print(sorted(list(zip(non_bot_counts, non_bot_names)), reverse = True))"
   ]
  },
  {
   "attachments": {},
   "cell_type": "markdown",
   "metadata": {},
   "source": [
    "It looks like BB-8 is our most common player, with 6,576 games played.\n",
    "\n",
    "Let's see what score you get before you've played a game.\n",
    "\n",
    "For this, it might be useful to merge the dataframes into one main dataframe that has info on all of the games. That way we can sort by created_at which is only in games while also looking at the non-bot nicknames which isn't in games. \n",
    "\n",
    "We'll want to make it so that each game_id only has one row, so we'll have to separate the nicknames of bots and non-bots into their own colums, then merge them.\n",
    "\n",
    "We'll keep the turns dataframe separate for now as it would add a lot of either extra columns or extra rows to our dataframe depending on how we chose to integrate it."
   ]
  },
  {
   "cell_type": "code",
   "execution_count": null,
   "metadata": {},
   "outputs": [],
   "source": [
    "new_df = pd.concat([train, test])\n",
    "new_df = new_df.sort_values(by=['game_id'])\n",
    "\n",
    "non_bot_df = new_df[new_df['nickname'].isin(non_bot_names)]\n",
    "non_bot_df = non_bot_df.rename(columns={\"nickname\": \"username\", \"score\" : \"user_score\", \"rating\": \"user_rating\"})\n",
    "\n",
    "bot_df = new_df[new_df['nickname'].isin(bot_names)]\n",
    "bot_df = bot_df.rename(columns={\"nickname\": \"bot_name\", \"score\" : \"bot_score\", \"rating\": \"bot_rating\"})\n",
    "\n",
    "combined_df = pd.merge(non_bot_df, bot_df, on='game_id')\n",
    "\n",
    "combined_df = pd.merge(combined_df, games, on='game_id')\n",
    "\n",
    "combined_df = combined_df.sort_values(by=['game_id'])"
   ]
  },
  {
   "attachments": {},
   "cell_type": "markdown",
   "metadata": {},
   "source": [
    "Note: When using a print statement I had earlier, it seems as if game_id = 2 is not included in this dataframe for some reason. This may be an error which causes problems later, yet I shall press on for now.\n",
    "\n",
    "Now let us see what users' first scores are before they've played a game. We'll assume that the game_id's go in order, so earlier game_id's would indicate earlier created_at's."
   ]
  },
  {
   "cell_type": "code",
   "execution_count": null,
   "metadata": {},
   "outputs": [
    {
     "name": "stdout",
     "output_type": "stream",
     "text": [
      "[1500.0, 1811.0, 1473.0, 2029.0, 2067.0, 1641.0, 1838.0, 1500.0, 2017.0, 1863.0, 1829.0, 1948.0, 1851.0, 2056.0, 1674.0, 2099.0, 2072.0, 1712.0, 2138.0, 1853.0, 1947.0, 1956.0, 1890.0, 2067.0, 1884.0, 1873.0, 1982.0, 2055.0, 1838.0, 2035.0, 1905.0, 1755.0, 1612.0, 1948.0, 1387.0, 1910.0, 1513.0, 1864.0, 1830.0, 2288.0, 1659.0, 2021.0, 2145.0, 1817.0, 1629.0, 1887.0, 1714.0, 1626.0, 2068.0, 1630.0, 2011.0, 1332.0, 1583.0, 1838.0, 1698.0, 2275.0, 1453.0, 2160.0, 1851.0, 1801.0, 1919.0, 1977.0, 1499.0, 1607.0, 1977.0, 1646.0, 1924.0, 1993.0, 1735.0, 1999.0, 2147.0, 1461.0, 1500.0, 2063.0, 1576.0, 1840.0, 1589.0, 1816.0, 2109.0, 1755.0, 1843.0, 1641.0, 1500.0, 1388.0, 1590.0, 1784.0, 1764.0, 1493.0, 1910.0, 1424.0, 2116.0, 2031.0, 1965.0, 1807.0, 1554.0, 1310.0, 2245.0, 1834.0, 2120.0, 1708.0, 1947.0, 1912.0, 2185.0, 1941.0, 1973.0, 1885.0, 1511.0, 1716.0, 1725.0, 1670.0, 1577.0, 1872.0, 2143.0, 2074.0, 1494.0, 1725.0, 1852.0, 1884.0, 1609.0, 2026.0, 1957.0, 1732.0, 1829.0, 1947.0, 2034.0, 2032.0, 1812.0, 1896.0, 2009.0, 2182.0, 1921.0, 2084.0, 1637.0, 1552.0, 2031.0, 1386.0, 2056.0, 1764.0, 1397.0, 1895.0, 1836.0, 1975.0, 2057.0, 1145.0, 1262.0, 1999.0, 1241.0, 1843.0, 1671.0, 2030.0, 1877.0, 1589.0, 1253.0, 2042.0, 1943.0, 2035.0, 2037.0, 2059.0, 2041.0, 1844.0, 1781.0, 1952.0, 1420.0, 1606.0, 1719.0, 1947.0, 1464.0, 1464.0, 1721.0, 1523.0, 2026.0, 1719.0, 2014.0, 1862.0, 1867.0, 1966.0, 1746.0, 1790.0, 1297.0, 1549.0, 1868.0, 1703.0, 1746.0, 1695.0, 2092.0, 2137.0, 1698.0, 2024.0, 1794.0, 1620.0, 1816.0, 1719.0, 2101.0, 1541.0, 1716.0, 1824.0, 2177.0, 1693.0, 1980.0, 2014.0, 1906.0, 1882.0, 1801.0, 1406.0, 1710.0, 2175.0, 1641.0, 1647.0, 1873.0, 2102.0, 1605.0, 2039.0, 1704.0, 2078.0, 1724.0, 2019.0, 1879.0, 1939.0, 1711.0, 1903.0, 1597.0, 1833.0, 1758.0, 1768.0, 1639.0, 1507.0, 2028.0, 2081.0, 2063.0, 2143.0, 1640.0, 1821.0, 2011.0, 1500.0, 1232.0, 1862.0, 1600.0, 1638.0, 1230.0, 1628.0, 2031.0, 1446.0, 1644.0, 1493.0, 1393.0, 1543.0, 1261.0, 1928.0, 1756.0, 1919.0, 2031.0, 1703.0, 2116.0, 1685.0, 1727.0, 1979.0, 2148.0, 1761.0, 1957.0, 1929.0, 1451.0, 1899.0, 1694.0, 1550.0, 1541.0, 1716.0, 2024.0, 1702.0, 1520.0, 1987.0, 1708.0, 1813.0, 1830.0, 1170.0, 1783.0, 2092.0, 1889.0, 1608.0, 1914.0, 1411.0, 1874.0, 2177.0, 1757.0, 1812.0, 2210.0, 1754.0, 1946.0, 2075.0, 1594.0, 1500.0, 1949.0, 1604.0, 1827.0, 1828.0, 1886.0, 1489.0, 1898.0, 1768.0, 1743.0, 1163.0, 1804.0, 1706.0, 1850.0, 1502.0, 2076.0, 2130.0, 2048.0, 1552.0, 1498.0, 1434.0, 1548.0, 1947.0, 1248.0, 2091.0, 2069.0, 1928.0, 1610.0, 2115.0, 2061.0, 2029.0, 1472.0, 1805.0, 1665.0, 1952.0, 1904.0, 1244.0, 1812.0, 1475.0, 1803.0, 1608.0, 1585.0, 1977.0, 1465.0, 1827.0, 2066.0, 1959.0, 1620.0, 1856.0, 1676.0, 1500.0, 1768.0, 1860.0, 2048.0, 1395.0, 1570.0, 1625.0, 1829.0, 1158.0, 1500.0, 1738.0, 1786.0, 1224.0, 1675.0, 1532.0, 1439.0, 1909.0, 1936.0, 1855.0, 1720.0, 1644.0, 2020.0, 1500.0, 1626.0, 1442.0, 1691.0, 1757.0, 1891.0, 1347.0, 1871.0, 1661.0, 2319.0, 1950.0, 1861.0, 1634.0, 1708.0, 2062.0, 1500.0, 1697.0, 1875.0, 2103.0, 1623.0, 1450.0, 1514.0, 1731.0, 1996.0, 1986.0, 2167.0, 1495.0, 1847.0, 1909.0, 1621.0, 1654.0, 1942.0, 1661.0, 2093.0, 1585.0, 1989.0, 1984.0, 1908.0, 1893.0, 1588.0, 1888.0, 1868.0, 1967.0, 1772.0, 1887.0, 1653.0, 1290.0, 1916.0, 1492.0, 1902.0, 1933.0, 1794.0, 1868.0, 2030.0, 1561.0, 1863.0, 1757.0, 1877.0, 1839.0, 1419.0, 1500.0, 1807.0, 1536.0, 1938.0, 1496.0, 1856.0, 1500.0, 1646.0, 1432.0, 1607.0, 2098.0, 1390.0, 1808.0, 1665.0, 1852.0, 1652.0, 1637.0, 1960.0, 1957.0, 1834.0, 1380.0, 1491.0, 1964.0, 1730.0, 2013.0, 1500.0, 1677.0, 1534.0, 1992.0, 1478.0, 1731.0, 1680.0, 1393.0, 1718.0, 1953.0, 1814.0, 1486.0, 1749.0, 1661.0, 1976.0, 1838.0, 1827.0, 1437.0, 1819.0, 1645.0, 1671.0, 1909.0, 1841.0, 1649.0, 1393.0, 1962.0, 1683.0, 1695.0, 1745.0, 1846.0, 1545.0, 1790.0, 1944.0, 1352.0, 1753.0, 1169.0, 1436.0, 1754.0, 1827.0, 1523.0, 1460.0, 1867.0, 1715.0, 2247.0, 1466.0, 1358.0, 1712.0, 1771.0, 1239.0, 1995.0, 1192.0, 1754.0, 1867.0, 1793.0, 1679.0, 1647.0, 1797.0, 1610.0, 1702.0, 1500.0, 1512.0, 1185.0, 1895.0, 1730.0, 1600.0, 2046.0, 1563.0, 1953.0, 1431.0, 1491.0, 2117.0, 1893.0, 1500.0, 1542.0, 1327.0, 1616.0, 1448.0, 2034.0, 1290.0, 1883.0, 1713.0, 1500.0, 1780.0, 1500.0, 1752.0, 1519.0, 1450.0, 1649.0, 1695.0, 1916.0, 1500.0, 2151.0, 1401.0, 2220.0, 1636.0, 1453.0, 1938.0, 1338.0, 1990.0, 1500.0, 1267.0, 2057.0, 1841.0, 2127.0, 2146.0, 1446.0, 1480.0, 1719.0, 1861.0, 1719.0, 1735.0, 1746.0, 1463.0, 2316.0, 1922.0, 2068.0, 1500.0, 1359.0, 2009.0, 2120.0, 1613.0, 1950.0, 1912.0, 1726.0, 1511.0, 1727.0, 1717.0, 1689.0, 1575.0, 1894.0, 1638.0, 1099.0, 1918.0, 1801.0, 1895.0, 1315.0, 1828.0, 1657.0, 1630.0, 1265.0, 2129.0, 1249.0, 1500.0, 1702.0, 1883.0, 2098.0, 1855.0, 1330.0, 1349.0, 1295.0, 1994.0, 1768.0, 1928.0, 1297.0, 1743.0, 1747.0, 1176.0, 1640.0, 1932.0, 1265.0, 1716.0, 1951.0, 2012.0, 1743.0, 1803.0, 1865.0, 1724.0, 1981.0, 1266.0, 1416.0, 1925.0, 1774.0, 1716.0, 1548.0, 1500.0, 1971.0, 1971.0, 1982.0, 2057.0, 1797.0, 1531.0, 1377.0, 1448.0, 1770.0, 1947.0, 1845.0, 1804.0, 1605.0, 1569.0, 1500.0, 1860.0, 1683.0, 1546.0, 1729.0, 1261.0, 1788.0, 1903.0, 1525.0, 1260.0, 1612.0, 1500.0, 1895.0, 1680.0, 1556.0, 1835.0, 1731.0, 1588.0, 1836.0, 1458.0, 1456.0, 1322.0, 1523.0, 1812.0, 1681.0, 1790.0, 1662.0, 1886.0, 1491.0, 1734.0, 2054.0, 1229.0, 1567.0, 1688.0, 1603.0, 1303.0, 1951.0, 1747.0, 1739.0, 1838.0, 1380.0, 1488.0, 1715.0, 2049.0, 1883.0, 1853.0, 2254.0, 1831.0, 1464.0, 1433.0, 1548.0, 1617.0, 1966.0, 1500.0, 1741.0, 1473.0, 1936.0, 1859.0, 1823.0, 1891.0, 1500.0, 1576.0, 1598.0, 1595.0, 1901.0, 1974.0, 1465.0, 1977.0, 1675.0, 2138.0, 1801.0, 1207.0, 1500.0, 1462.0, 1880.0, 1847.0, 1748.0, 1800.0, 1500.0, 1393.0, 1300.0, 1705.0, 1500.0, 2051.0, 1697.0, 1540.0, 1617.0, 1710.0, 1466.0, 1651.0, 2054.0, 1280.0, 1748.0, 1889.0, 1684.0, 1403.0, 1130.0, 1762.0, 1996.0, 1422.0, 2081.0, 1769.0, 1255.0, 1680.0, 1958.0, 1622.0, 1671.0, 1813.0, 1340.0, 1338.0, 1468.0, 1957.0, 2052.0, 1908.0, 1629.0, 1997.0, 1418.0, 1911.0, 1669.0, 1914.0, 1692.0, 1478.0, 2036.0, 1500.0, 1506.0, 1823.0, 2145.0, 1451.0, 2066.0, 1703.0, 1746.0, 1630.0, 1789.0, 1734.0, 1600.0, 1741.0, 1868.0, 1911.0, 1919.0, 1558.0, 1833.0, 2002.0, 1500.0, 1500.0, 1684.0, 1905.0, 1889.0, 1657.0, 1715.0, 1773.0, 1508.0, 1508.0, 2022.0, 1782.0, 1937.0, 1805.0, 2035.0, 1605.0, 1960.0, 1500.0, 1631.0, 1299.0, 1500.0, 1500.0, 1513.0, 1466.0, 1400.0, 1949.0, 1768.0, 1433.0, 1644.0, 1413.0, 1699.0, 1932.0, 2027.0, 1903.0, 1691.0, 1618.0, 1955.0, 1346.0, 2107.0, 1461.0, 1409.0, 1716.0, 1450.0, 1500.0, 2056.0, 1537.0, 1554.0, 2070.0, 1527.0, 1500.0, 1118.0, 2143.0, 1678.0, 1867.0, 1935.0, 1764.0, 1303.0, 1795.0, 1808.0, 1587.0, 1682.0, 1295.0, 1719.0, 1709.0, 1479.0, 1936.0, 1569.0, 1457.0, 1434.0, 1826.0, 1313.0, 1411.0, 1481.0, 1500.0, 1583.0, 1700.0, 1512.0, 1772.0, 1416.0, 1864.0, 1432.0, 1649.0, 1454.0, 1683.0, 1845.0, 1647.0, 1467.0, 1713.0, 1770.0, 1500.0, 1840.0, 1694.0, 2109.0, 1098.0, 1823.0, 1831.0, 1702.0, 1515.0, 1466.0, 1562.0, 1718.0, 1799.0, 1839.0, 1393.0, 1473.0, 1864.0, 1564.0, 1565.0, 1954.0, 1500.0, 1639.0, 1643.0, 1801.0, 1731.0, 1683.0, 1684.0, 1500.0, 1606.0, 1458.0, 2052.0, 2109.0, 1319.0, 2008.0, 1892.0, 1525.0, 1267.0, 1895.0, 1299.0, 1500.0, 1928.0, 1850.0, 1912.0, 1304.0, 1685.0, 1500.0, 1491.0, 1820.0, 1887.0, 1905.0, 1998.0, 1960.0, 1694.0, 1892.0, 1678.0, 2093.0, 1615.0, 1552.0, 1449.0, 1571.0, 1571.0, 1821.0, 1737.0, 1523.0, 1940.0, 1852.0, 1558.0, 1500.0, 1811.0, 1609.0, 1689.0, 1998.0, 1697.0, 1899.0, 1490.0, 1465.0, 1979.0, 1245.0, 2091.0, 1650.0, 1756.0, 1461.0, 1407.0, 1270.0, 1500.0, 1974.0, 1480.0, 2026.0, 1538.0, 1869.0, 1315.0, 1500.0, 1632.0, 1667.0, 1590.0, 1382.0, 1606.0, 1033.0, 1852.0, 1821.0, 2019.0, 1701.0, 1500.0, 1381.0, 1481.0, 1263.0, 1735.0, 1527.0, 1542.0, 2211.0, 1808.0, 1500.0, 1309.0, 1609.0, 1786.0, 1473.0, 1500.0, 1620.0, 1238.0, 1358.0, 1925.0, 1450.0, 1663.0, 1405.0, 2002.0, 1608.0, 1684.0, 1791.0, 1636.0, 1522.0, 1243.0, 1482.0, 1690.0, 1664.0, 1313.0, 1795.0, 2116.0, 1500.0, 1492.0, 1500.0, 1690.0, 1668.0, 1535.0, 1333.0, 1641.0, 1724.0, 1587.0, 1709.0, 1500.0, 1674.0, 1614.0, 1821.0, 2062.0, 1961.0, 1972.0, 1194.0, 1743.0, 1438.0, 1950.0, 2056.0, 1837.0, 2017.0]\n"
     ]
    }
   ],
   "source": [
    "new_list = []\n",
    "for user in combined_df['username'].unique():\n",
    "    new_list.append(combined_df[combined_df['username'] == user].iloc[0]['user_rating'])\n",
    "print(new_list)"
   ]
  },
  {
   "attachments": {},
   "cell_type": "markdown",
   "metadata": {},
   "source": [
    "It looks like our hypothesis was wrong: not all users start at 1500 before playing a game. Let's see the percent of users whose first score is 1500."
   ]
  },
  {
   "cell_type": "code",
   "execution_count": null,
   "metadata": {},
   "outputs": [
    {
     "data": {
      "text/plain": [
       "0.05058365758754864"
      ]
     },
     "execution_count": 147,
     "metadata": {},
     "output_type": "execute_result"
    }
   ],
   "source": [
    "len([newer_list for newer_list in new_list if newer_list == 1500])/len(new_list)"
   ]
  },
  {
   "attachments": {},
   "cell_type": "markdown",
   "metadata": {},
   "source": [
    "It looks like only 5% of players start at 1500. This is a lot less than I expected.\n",
    "\n",
    "Maybe it has something to do with whether they're playing ranked or not? Or with the lexicon they're using? Or with the time control?\n",
    "\n",
    "Let's look further into the statistics surrounding rating modes, lexicons, and time controls."
   ]
  },
  {
   "cell_type": "code",
   "execution_count": null,
   "metadata": {},
   "outputs": [
    {
     "data": {
      "text/plain": [
       "<Axes: xlabel='rating_mode', ylabel='Count'>"
      ]
     },
     "execution_count": 148,
     "metadata": {},
     "output_type": "execute_result"
    },
    {
     "data": {
      "image/png": "[encoded data removed]",
      "text/plain": [
       "<Figure size 640x480 with 1 Axes>"
      ]
     },
     "metadata": {},
     "output_type": "display_data"
    }
   ],
   "source": [
    "seaborn.histplot(combined_df['rating_mode'], ax=plot.gca())"
   ]
  },
  {
   "attachments": {},
   "cell_type": "markdown",
   "metadata": {},
   "source": [
    "Let's look at which rating modes are used the most."
   ]
  },
  {
   "attachments": {},
   "cell_type": "markdown",
   "metadata": {},
   "source": [
    "Let's look at which lexicons are used the most."
   ]
  },
  {
   "cell_type": "code",
   "execution_count": null,
   "metadata": {},
   "outputs": [
    {
     "data": {
      "text/plain": [
       "<Axes: xlabel='lexicon', ylabel='Count'>"
      ]
     },
     "execution_count": 149,
     "metadata": {},
     "output_type": "execute_result"
    },
    {
     "data": {
      "image/png": "[encoded data removed]",
      "text/plain": [
       "<Figure size 640x480 with 1 Axes>"
      ]
     },
     "metadata": {},
     "output_type": "display_data"
    }
   ],
   "source": [
    "seaborn.histplot(combined_df['lexicon'], ax=plot.gca())"
   ]
  },
  {
   "attachments": {},
   "cell_type": "markdown",
   "metadata": {},
   "source": [
    "Let's look at which time controls are used the most."
   ]
  },
  {
   "cell_type": "code",
   "execution_count": null,
   "metadata": {},
   "outputs": [
    {
     "data": {
      "text/plain": [
       "<Axes: xlabel='time_control_name', ylabel='Count'>"
      ]
     },
     "execution_count": 150,
     "metadata": {},
     "output_type": "execute_result"
    },
    {
     "data": {
      "image/png": "[encoded data removed]",
      "text/plain": [
       "<Figure size 640x480 with 1 Axes>"
      ]
     },
     "metadata": {},
     "output_type": "display_data"
    }
   ],
   "source": [
    "seaborn.histplot(combined_df['time_control_name'], ax=plot.gca())"
   ]
  },
  {
   "attachments": {},
   "cell_type": "markdown",
   "metadata": {},
   "source": [
    "So from this we can see that the majority of games are in the regular time control, the CSW21 lexicon, and the rated rating mode. \n",
    "\n",
    "So for feature engineering later we may choose to focus more on these areas of the data to get a clearer picture with fewer outliers."
   ]
  },
  {
   "cell_type": "code",
   "execution_count": null,
   "metadata": {},
   "outputs": [
    {
     "data": {
      "text/plain": [
       "<Axes: xlabel='bot_score', ylabel='Count'>"
      ]
     },
     "execution_count": 151,
     "metadata": {},
     "output_type": "execute_result"
    },
    {
     "data": {
      "image/png": "[encoded data removed]",
      "text/plain": [
       "<Figure size 640x480 with 1 Axes>"
      ]
     },
     "metadata": {},
     "output_type": "display_data"
    }
   ],
   "source": [
    "seaborn.histplot(combined_df['bot_score'], ax=plot.gca(), color = \"Orange\")\n",
    "\n",
    "seaborn.histplot(combined_df['user_score'], ax=plot.gca(), color = \"Blue\")\n",
    "\n",
    "seaborn.histplot(combined_df['user_rating'], ax=plot.gca(), color = \"Red\")\n",
    "\n",
    "seaborn.histplot(combined_df['bot_rating'], ax=plot.gca(), color = \"Green\")"
   ]
  },
  {
   "attachments": {},
   "cell_type": "markdown",
   "metadata": {},
   "source": [
    "In the above graph, we can see that bot_score and user_score tend to be similar, whereas bot rating tends to be higher than user rating, and user rating is the one with all of the 1500 scores.\n",
    "\n",
    "My initial hypothesis was to use linear regression to predict the user rating. We'll want to use the bot rating as a feature to help us predict the user rating. We can use sklearn to do this."
   ]
  },
  {
   "cell_type": "code",
   "execution_count": null,
   "metadata": {},
   "outputs": [],
   "source": [
    "from sklearn.linear_model import LinearRegression\n",
    "\n",
    "X_train = train.drop([\"nickname\", \"rating\"], axis=1)\n",
    "y_train = train[\"rating\"].copy()\n",
    "\n",
    "model = LinearRegression()\n",
    "model.fit(X_train, y_train)\n",
    "test[\"rating\"] = model.predict(test.drop([\"nickname\", \"rating\"], axis=1))"
   ]
  },
  {
   "attachments": {},
   "cell_type": "markdown",
   "metadata": {},
   "source": [
    "However, we can actually look at multiple possible solutions and see which one gets us the closest score to what we're looking for. We can do this by looping through each potential solution and seeing which one gets us the closest score. For example, random forests might be a better fit, or maybe a neural network. We can also try different combinations of features to see which ones work best."
   ]
  },
  {
   "cell_type": "code",
   "execution_count": null,
   "metadata": {},
   "outputs": [
    {
     "name": "stdout",
     "output_type": "stream",
     "text": [
      "RandomForestRegressor(): 87.13202975109137\n",
      "LinearRegression(): 209.79925483805815\n",
      "MLPRegressor(): 267.1863896380219\n"
     ]
    }
   ],
   "source": [
    "from sklearn.metrics import mean_squared_error\n",
    "from sklearn.ensemble import RandomForestRegressor\n",
    "from sklearn.neural_network import MLPRegressor\n",
    "\n",
    "list_of_models = [RandomForestRegressor(), LinearRegression(), MLPRegressor()]\n",
    "\n",
    "for i in list_of_models:\n",
    "    X_train = train.drop([\"nickname\", \"rating\"], axis=1)\n",
    "    y_train = train[\"rating\"].copy()\n",
    "    model = i\n",
    "    model.fit(X_train, y_train)\n",
    "    test[\"rating\"] = model.predict(test.drop([\"nickname\", \"rating\"], axis=1))\n",
    "    predictions = model.predict(X_train).reshape(-1)\n",
    "    RMSE_results = mean_squared_error(y_train, predictions, squared=False)\n",
    "    print(str(model) + \": \" + str(RMSE_results))"
   ]
  },
  {
   "attachments": {},
   "cell_type": "markdown",
   "metadata": {},
   "source": [
    "From the results above, it seems like Random Forest Regressor is our best bet.\n",
    "\n",
    "It should also be noted that MLPRegressor took far longer than the other two methods.\n",
    "\n",
    "If I were to now upload my data to the Kaggle site, I could get a score on how I did with my predictions compared to the testing ratings. However, for the sake of academic honesty, I will not do this as that would allow others to see my solutions and potentially copy them. However I still have reason to believe my model would do quite well as I assume the testing data will probably be quite similar to hte training data, so my RSME results for the testing data will probably also be close to 87.\n",
    "\n",
    "The following code creates a CSV file that matches the format of the sample_submission.csv file. It uses the predictions from the Random Forest Regressor model."
   ]
  },
  {
   "cell_type": "code",
   "execution_count": null,
   "metadata": {},
   "outputs": [],
   "source": [
    "X_train = train.drop([\"nickname\", \"rating\"], axis=1)\n",
    "y_train = train[\"rating\"].copy()\n",
    "y_train = train[\"rating\"].copy()\n",
    "model = RandomForestRegressor()\n",
    "model.fit(X_train, y_train)\n",
    "test[\"rating\"] = model.predict(test.drop([\"nickname\", \"rating\"], axis=1))\n",
    "submission = test[[\"game_id\", \"rating\"]]\n",
    "submission.to_csv(\"submission.csv\", index=False)"
   ]
  }
 ],
 "metadata": {
  "kernelspec": {
   "display_name": "Python 3 (ipykernel)",
   "language": "python",
   "name": "python3"
  },
  "language_info": {
   "codemirror_mode": {
    "name": "ipython",
    "version": 3
   },
   "file_extension": ".py",
   "mimetype": "text/x-python",
   "name": "python",
   "nbconvert_exporter": "python",
   "pygments_lexer": "ipython3",
   "version": "3.11.2"
  },
  "vscode": {
   "interpreter": {
    "hash": "b0fa6594d8f4cbf19f97940f81e996739fb7646882a419484c72d19e05852a7e"
   }
  }
 },
 "nbformat": 4,
 "nbformat_minor": 4
}
